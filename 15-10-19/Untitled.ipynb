{
 "cells": [
  {
   "cell_type": "markdown",
   "metadata": {},
   "source": [
    "# write a program to create a file with some content in files"
   ]
  },
  {
   "cell_type": "code",
   "execution_count": 6,
   "metadata": {},
   "outputs": [],
   "source": [
    "filepath=\"content.txt\"\n",
    "def create(filepath):\n",
    "    with open(filepath,\"w\") as f:\n",
    "        f.write(\"hii\\n hello \\n welcome to python\")\n",
    "create(filepath)"
   ]
  },
  {
   "cell_type": "code",
   "execution_count": 7,
   "metadata": {},
   "outputs": [
    {
     "name": "stdout",
     "output_type": "stream",
     "text": [
      "hii\n",
      " hello \n",
      " welcome to python\n"
     ]
    }
   ],
   "source": [
    "filepath=\"content.txt\"\n",
    "def readdata(filepath):\n",
    "    with open(filepath,\"r\") as f:\n",
    "        f1=f.read()\n",
    "        print(f1)\n",
    "readdata(filepath)   \n"
   ]
  },
  {
   "cell_type": "code",
   "execution_count": 10,
   "metadata": {},
   "outputs": [],
   "source": [
    "filepath=\"studentmarks.txt\"\n",
    "import random\n",
    "def marksmemo(filepath,n):\n",
    "    with open(filepath,\"w\") as f:\n",
    "        for i in range(n):\n",
    "            f.write(str(random.randint(1,100))+'\\n')\n",
    "marksmemo(filepath,50)"
   ]
  },
  {
   "cell_type": "code",
   "execution_count": 15,
   "metadata": {},
   "outputs": [
    {
     "name": "stdout",
     "output_type": "stream",
     "text": [
      "2469\n",
      "50\n"
     ]
    },
    {
     "data": {
      "text/plain": [
       "49"
      ]
     },
     "execution_count": 15,
     "metadata": {},
     "output_type": "execute_result"
    }
   ],
   "source": [
    "filepath=\"studentmarks.txt\"\n",
    "def classavg(filepath):\n",
    "    s=0\n",
    "    c=0\n",
    "    with open(filepath,'r') as f:\n",
    "        f1=f.read()\n",
    "        l=f1.split()\n",
    "        for i in l:\n",
    "            s=s+int(i)\n",
    "            c=c+1\n",
    "        avg=s//c\n",
    "        print(s)\n",
    "        print(c)\n",
    "    return avg\n",
    "classavg(filepath)\n"
   ]
  },
  {
   "cell_type": "code",
   "execution_count": 16,
   "metadata": {},
   "outputs": [
    {
     "name": "stdout",
     "output_type": "stream",
     "text": [
      "2469\n",
      "50\n"
     ]
    },
    {
     "data": {
      "text/plain": [
       "4900"
      ]
     },
     "execution_count": 16,
     "metadata": {},
     "output_type": "execute_result"
    }
   ],
   "source": [
    "# for percentage\n",
    "filepath=\"studentmarks.txt\"\n",
    "def classavg(filepath):\n",
    "    s=0\n",
    "    c=0\n",
    "    with open(filepath,'r') as f:\n",
    "        f1=f.read()\n",
    "        l=f1.split()\n",
    "        for i in l:\n",
    "            s=s+int(i)\n",
    "            c=c+1\n",
    "        avg=s//c*100\n",
    "        print(s)\n",
    "        print(c)\n",
    "    return avg\n",
    "classavg(filepath)\n"
   ]
  },
  {
   "cell_type": "code",
   "execution_count": 8,
   "metadata": {},
   "outputs": [
    {
     "name": "stdout",
     "output_type": "stream",
     "text": [
      "3400.0\n"
     ]
    }
   ],
   "source": [
    "filepath=\"studentmarks.txt\"\n",
    "def passpercentage(filepath):\n",
    "    passed_count=0\n",
    "    total_count=0\n",
    "    with open(filepath,\"r\") as f:\n",
    "        filedata=f.read()\n",
    "        for i in filedata.split():\n",
    "            total_count=1\n",
    "            if int(i)>=35:\n",
    "                passed_count+=1\n",
    "        print((passed_count/total_count)*100)\n",
    "passpercentage(filepath)"
   ]
  },
  {
   "cell_type": "code",
   "execution_count": 7,
   "metadata": {},
   "outputs": [
    {
     "name": "stdout",
     "output_type": "stream",
     "text": [
      "1600.0\n"
     ]
    }
   ],
   "source": [
    "filepath=\"studentmarks.txt\"\n",
    "def failpercentage(filepath):\n",
    "    passed_count=0\n",
    "    total_count=0\n",
    "    with open(filepath,\"r\") as f:\n",
    "        filedata=f.read()\n",
    "        for i in filedata.split():\n",
    "            total_count=1\n",
    "            if int(i)<=35:\n",
    "                passed_count+=1\n",
    "        print((passed_count/total_count)*100)\n",
    "failpercentage(filepath)"
   ]
  },
  {
   "cell_type": "code",
   "execution_count": 6,
   "metadata": {},
   "outputs": [
    {
     "name": "stdout",
     "output_type": "stream",
     "text": [
      "600.0\n"
     ]
    }
   ],
   "source": [
    "filepath=\"studentmarks.txt\"\n",
    "def highestmarks(filepath):\n",
    "    passed_count=0\n",
    "    total_count=0\n",
    "    with open(filepath,\"r\") as f:\n",
    "        filedata=f.read()\n",
    "        for i in filedata.split():\n",
    "            total_count=1\n",
    "            if int(i)>=90:\n",
    "                passed_count+=1\n",
    "        print((passed_count/total_count)*100)\n",
    "highestmarks(filepath)"
   ]
  },
  {
   "cell_type": "code",
   "execution_count": 5,
   "metadata": {},
   "outputs": [
    {
     "name": "stdout",
     "output_type": "stream",
     "text": [
      "1100.0\n"
     ]
    }
   ],
   "source": [
    "filepath=\"studentmarks.txt\"\n",
    "def lowestmarks(filepath):\n",
    "    passed_count=0\n",
    "    total_count=0\n",
    "    with open(filepath,\"r\") as f:\n",
    "        f1=f.read()\n",
    "        for i in f1.split():\n",
    "            total_count=1\n",
    "            if int(i)<=25:\n",
    "                passed_count+=1\n",
    "        print((passed_count/total_count)*100)\n",
    "lowestmarks(filepath)"
   ]
  },
  {
   "cell_type": "code",
   "execution_count": 19,
   "metadata": {},
   "outputs": [
    {
     "name": "stdout",
     "output_type": "stream",
     "text": [
      "['hii', 'hello ', 'welcome to python', 'hii']\n",
      "hii 2\n",
      "hello  1\n",
      "welcome to python 1\n",
      "hii 2\n"
     ]
    }
   ],
   "source": [
    "filepath=\"content.txt\"\n",
    "def frequencywords(filepath):\n",
    "    with open(filepath,'r')as f:\n",
    "        f1=f.read()\n",
    "        l=f1.split(\"\\n\")\n",
    "        print(l)\n",
    "        for i in l:\n",
    "            print(i,l.count(i))\n",
    "frequencywords(filepath)"
   ]
  },
  {
   "cell_type": "code",
   "execution_count": 18,
   "metadata": {},
   "outputs": [
    {
     "name": "stdout",
     "output_type": "stream",
     "text": [
      "['hii', 'hello ', 'welcome to python', 'hii']\n",
      "welcome to python 1\n",
      "hii 2\n",
      "hello  1\n"
     ]
    }
   ],
   "source": [
    "filepath=\"content.txt\"\n",
    "def frequencywords(filepath):\n",
    "    with open(filepath,'r')as f:\n",
    "        f1=f.read()\n",
    "        l=f1.split(\"\\n\")\n",
    "        print(l)\n",
    "        for i in set(l):\n",
    "            print(i,l.count(i))\n",
    "frequencywords(filepath)"
   ]
  },
  {
   "cell_type": "code",
   "execution_count": 22,
   "metadata": {},
   "outputs": [
    {
     "data": {
      "text/plain": [
       "{'welcome to python': 1, 'hii': 2, 'hello ': 1}"
      ]
     },
     "execution_count": 22,
     "metadata": {},
     "output_type": "execute_result"
    }
   ],
   "source": [
    "filepath=\"content.txt\"\n",
    "def frequencywords(filepath):\n",
    "    d={}\n",
    "    with open(filepath,'r')as f:\n",
    "        f1=f.read()\n",
    "        l=f1.split(\"\\n\")\n",
    "        for i in set(l):\n",
    "            d[i]=l.count(i)\n",
    "    return d\n",
    "frequencywords(filepath)"
   ]
  },
  {
   "cell_type": "code",
   "execution_count": 23,
   "metadata": {},
   "outputs": [
    {
     "name": "stdout",
     "output_type": "stream",
     "text": [
      "Help on method_descriptor:\n",
      "\n",
      "replace(self, old, new, count=-1, /)\n",
      "    Return a copy with all occurrences of substring old replaced by new.\n",
      "    \n",
      "      count\n",
      "        Maximum number of occurrences to replace.\n",
      "        -1 (the default value) means replace all occurrences.\n",
      "    \n",
      "    If the optional argument count is given, only the first count occurrences are\n",
      "    replaced.\n",
      "\n"
     ]
    }
   ],
   "source": [
    "help(str.replace)"
   ]
  },
  {
   "cell_type": "code",
   "execution_count": 24,
   "metadata": {},
   "outputs": [
    {
     "name": "stdout",
     "output_type": "stream",
     "text": [
      "hii\n",
      "hello \n",
      "welcome to python\n",
      "hiihii\n",
      "hello \n",
      "welcome to anjum\n",
      "hii"
     ]
    }
   ],
   "source": [
    "#string replacement\n",
    "filepath=\"content.txt\"\n",
    "def frequencywords(filepath):\n",
    "    with open(filepath,'r')as f:\n",
    "        f1=f.read()\n",
    "        s=f1.replace(\"python\",\"anjum\")\n",
    "        print(f1,end=\"\")\n",
    "        print(s,end=\"\")\n",
    "frequencywords(filepath)"
   ]
  },
  {
   "cell_type": "code",
   "execution_count": null,
   "metadata": {},
   "outputs": [],
   "source": []
  }
 ],
 "metadata": {
  "kernelspec": {
   "display_name": "Python 3",
   "language": "python",
   "name": "python3"
  },
  "language_info": {
   "codemirror_mode": {
    "name": "ipython",
    "version": 3
   },
   "file_extension": ".py",
   "mimetype": "text/x-python",
   "name": "python",
   "nbconvert_exporter": "python",
   "pygments_lexer": "ipython3",
   "version": "3.7.3"
  }
 },
 "nbformat": 4,
 "nbformat_minor": 2
}
