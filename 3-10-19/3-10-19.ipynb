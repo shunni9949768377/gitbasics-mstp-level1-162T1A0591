{
 "cells": [
  {
   "cell_type": "markdown",
   "metadata": {},
   "source": [
    "# FILE HANDLING"
   ]
  },
  {
   "cell_type": "markdown",
   "metadata": {},
   "source": [
    "# collection of data containing strings,integers \n",
    "# MODES:\n",
    "        1.read--r\n",
    "        2.write--w\n",
    "        3.append--a\n",
    "        4.readwrite--r+\n",
    "        5.writwread--w+\n",
    "        6.append&read--a+\n",
    "        7.exclusive write--x"
   ]
  },
  {
   "cell_type": "code",
   "execution_count": null,
   "metadata": {},
   "outputs": [],
   "source": [
    "#file opening\n",
    "#file=open(\"sample.txt\",\"mode\")"
   ]
  },
  {
   "cell_type": "code",
   "execution_count": 19,
   "metadata": {},
   "outputs": [],
   "source": [
    "#create a file and add some content\n",
    "f=open(\"data.txt\",\"w\")\n",
    "f.write(\"welcome python\")\n",
    "f.write(\"\\n learn python\\n\")\n",
    "f.close()"
   ]
  },
  {
   "cell_type": "code",
   "execution_count": 5,
   "metadata": {},
   "outputs": [
    {
     "name": "stdout",
     "output_type": "stream",
     "text": [
      "welcome python\n",
      " learn python\n",
      "\n"
     ]
    }
   ],
   "source": [
    "#print content of a file\n",
    "filedata=open(\"data.txt\",\"r\")\n",
    "f1=filedata.read()\n",
    "print(f1)\n",
    "filedata.close()"
   ]
  },
  {
   "cell_type": "code",
   "execution_count": 11,
   "metadata": {},
   "outputs": [
    {
     "name": "stdout",
     "output_type": "stream",
     "text": [
      "welcome python\n",
      " learn python\n",
      "\n"
     ]
    }
   ],
   "source": [
    "#function to print data of a file\n",
    "def func(f2,f3):\n",
    "    f2=open(\"data.txt\",\"r\")\n",
    "    f3=f2.read()\n",
    "    print(f3)\n",
    "    f2.close()\n",
    "func(f2,f3)"
   ]
  },
  {
   "cell_type": "code",
   "execution_count": 16,
   "metadata": {},
   "outputs": [],
   "source": [
    "def func(f):\n",
    "    f=open(\"data.txt\",\"w\")\n",
    "    f.write(\"\\n mstp apssdc\\n\")\n",
    "    f.close()\n",
    "func(f)\n",
    "    "
   ]
  },
  {
   "cell_type": "code",
   "execution_count": 20,
   "metadata": {},
   "outputs": [],
   "source": [
    "def func(f):\n",
    "    f=open(\"data.txt\",\"a\")\n",
    "    f.write(\"\\n mstp apssdc\\n\")\n",
    "    f.close()\n",
    "func(f)\n",
    "    "
   ]
  },
  {
   "cell_type": "code",
   "execution_count": 21,
   "metadata": {},
   "outputs": [
    {
     "name": "stdout",
     "output_type": "stream",
     "text": [
      "welcome python\n",
      " learn python\n",
      "\n",
      " mstp apssdc\n",
      "\n"
     ]
    }
   ],
   "source": [
    "def func(f2,f3):\n",
    "    f2=open(\"data.txt\",\"r\")\n",
    "    f3=f2.read()\n",
    "    print(f3)\n",
    "    f2.close()\n",
    "func(f2,f3)"
   ]
  },
  {
   "cell_type": "code",
   "execution_count": 22,
   "metadata": {},
   "outputs": [
    {
     "name": "stdout",
     "output_type": "stream",
     "text": [
      "welcome python\n",
      "\n"
     ]
    }
   ],
   "source": [
    "f=open(\"data.txt\",\"r\")\n",
    "x=f.readline()\n",
    "print(x)"
   ]
  },
  {
   "cell_type": "code",
   "execution_count": 24,
   "metadata": {},
   "outputs": [
    {
     "name": "stdout",
     "output_type": "stream",
     "text": [
      "['welcome python\\n', ' learn python\\n', '\\n', ' mstp apssdc\\n']\n"
     ]
    }
   ],
   "source": [
    "f=open(\"data.txt\",\"r\")\n",
    "x=f.readlines()\n",
    "print(x)"
   ]
  },
  {
   "cell_type": "code",
   "execution_count": 4,
   "metadata": {},
   "outputs": [
    {
     "name": "stdout",
     "output_type": "stream",
     "text": [
      "welcome python\n",
      "  learn python\n",
      " \n",
      "  mstp apssdc\n",
      " "
     ]
    }
   ],
   "source": [
    "#accesing of list data in next line\n",
    "def func():\n",
    "    f=open(\"data.txt\",\"r\")\n",
    "    x=f.readlines()\n",
    "    for i in x:\n",
    "        print(i,end=\" \")\n",
    "func()"
   ]
  },
  {
   "cell_type": "code",
   "execution_count": null,
   "metadata": {},
   "outputs": [],
   "source": [
    "# lines count\n",
    "# characters count\n",
    "# words count\n",
    "# file length"
   ]
  },
  {
   "cell_type": "code",
   "execution_count": 10,
   "metadata": {},
   "outputs": [
    {
     "name": "stdout",
     "output_type": "stream",
     "text": [
      "4\n"
     ]
    }
   ],
   "source": [
    "def func():\n",
    "    count=0    \n",
    "    with open(\"data.txt\",\"r\") as f:\n",
    "        x=f.readlines()\n",
    "        for i in x:\n",
    "            count+=1\n",
    "        print(count)\n",
    "func()\n",
    "    "
   ]
  },
  {
   "cell_type": "code",
   "execution_count": 15,
   "metadata": {},
   "outputs": [
    {
     "name": "stdout",
     "output_type": "stream",
     "text": [
      "43\n"
     ]
    }
   ],
   "source": [
    "def func():\n",
    "    count=0\n",
    "    with open(\"data.txt\",\"r\") as f:\n",
    "        x=f.read()\n",
    "        for i in x:\n",
    "            count+=1\n",
    "        print(count)\n",
    "func()"
   ]
  },
  {
   "cell_type": "code",
   "execution_count": 21,
   "metadata": {},
   "outputs": [
    {
     "name": "stdout",
     "output_type": "stream",
     "text": [
      "6\n"
     ]
    }
   ],
   "source": [
    "def func():\n",
    "    count=0\n",
    "    with open(\"data.txt\",\"r\") as f:\n",
    "        x=f.read()\n",
    "        y=x.split()\n",
    "        print(len(y))   \n",
    "func()"
   ]
  },
  {
   "cell_type": "code",
   "execution_count": 22,
   "metadata": {},
   "outputs": [
    {
     "name": "stdout",
     "output_type": "stream",
     "text": [
      "43\n"
     ]
    }
   ],
   "source": [
    "def func():\n",
    "    count=0\n",
    "    with open(\"data.txt\",\"r\") as f:\n",
    "        x=f.read()\n",
    "        for i in x:\n",
    "            count+=1\n",
    "        print(count)\n",
    "func()"
   ]
  },
  {
   "cell_type": "code",
   "execution_count": null,
   "metadata": {},
   "outputs": [],
   "source": []
  }
 ],
 "metadata": {
  "kernelspec": {
   "display_name": "Python 3",
   "language": "python",
   "name": "python3"
  },
  "language_info": {
   "codemirror_mode": {
    "name": "ipython",
    "version": 3
   },
   "file_extension": ".py",
   "mimetype": "text/x-python",
   "name": "python",
   "nbconvert_exporter": "python",
   "pygments_lexer": "ipython3",
   "version": "3.7.3"
  }
 },
 "nbformat": 4,
 "nbformat_minor": 2
}
