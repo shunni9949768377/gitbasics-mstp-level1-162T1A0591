{
 "cells": [
  {
   "cell_type": "markdown",
   "metadata": {},
   "source": [
    "# Regular expressions"
   ]
  },
  {
   "cell_type": "code",
   "execution_count": null,
   "metadata": {},
   "outputs": [],
   "source": [
    "# exact character sequence anywhere in the string EG:\"kvsw\"is RE then in any sentence it will show(or)match that word\n",
    "# cap(^) will define the RE with starting of sring EG:\"^k\" will define asthe words or strings start with 'k' those only match\n",
    "#dollar($) end of the string EG:^a[a-z][A-Z]s$----it accepts as starts with ^a after small letter and then capital then s dollar\n",
    "#a|b defines as a or b EG:it accepts both c and d in string\n",
    "# ^a[a-z]{2}[A-Z]{3}s$-----define starts with a small letters2 capital letters 3 and end with s\n",
    "# *----for repeatation EG:ab*c=ac,abc\n",
    "# +--- for repeation but all are important in string EG:ac+b=acb,abc\n",
    "# .---present btw two letters EG:a.c=axc,avc,abc\n",
    "# ^[6-9][6789[0-9]{9}$ phone number validation starting with 9\n",
    "# ^ [+][9][1][6-9][6789][0-9]{9}$ EG: phonenumber validation starts with +91\n",
    "# ^162t1a05([0-9]|[a-z]){2}$ rollnumber validation for a single college\n",
    "\n",
    "#rollnumber validation for other collages\n",
    "#email validation"
   ]
  },
  {
   "cell_type": "markdown",
   "metadata": {},
   "source": [
    "# phone number validation"
   ]
  },
  {
   "cell_type": "code",
   "execution_count": 14,
   "metadata": {},
   "outputs": [
    {
     "name": "stdout",
     "output_type": "stream",
     "text": [
      "1\n",
      "1\n",
      "1\n"
     ]
    }
   ],
   "source": [
    "# ^[0][6-9][6789[0-9]{9}$ phone number validation starting with 0\n",
    "# ^ [+][9][1][6-9][6789][0-9]{9}$ EG: phonenumber validation starts with +91\n",
    "#^[6-9][0-9]{9}$\n",
    "import re\n",
    "def phno(no):\n",
    "    pattern=\"^[+][9][1][6789][0-9]{9}$|^[6-9][0-9]{9}$|^[0][6-9][6789[0-9]{9}$\"\n",
    "    if re.match(pattern,no):\n",
    "        return 1\n",
    "    else:\n",
    "        return 0\n",
    "print(phno(\"9949768377\")) \n",
    "print(phno(\"+919949768377\"))\n",
    "print(phno(\"09949768377\"))\n"
   ]
  },
  {
   "cell_type": "markdown",
   "metadata": {},
   "source": [
    "# Email validation"
   ]
  },
  {
   "cell_type": "code",
   "execution_count": 3,
   "metadata": {},
   "outputs": [
    {
     "name": "stdout",
     "output_type": "stream",
     "text": [
      "1\n",
      "1\n",
      "0\n"
     ]
    }
   ],
   "source": [
    "import re\n",
    "def email(n):\n",
    "    a='^([0-9]|[a-z]|[A-Z])([0-9]|[a-z]|[A-Z]|[_]){6,14}([0-9]|[a-z])[@][a-z]{2,10}[.][a-z]{2,4}$'\n",
    "    if re.match(a,n):\n",
    "        return 1\n",
    "    else:\n",
    "        return 0\n",
    "print(email(\"shaikanjum521@gmail.com\"))\n",
    "print(email(\"162t1a0591@apssdc.info\"))\n",
    "print(email(\"kvsw.apssdc.info\"))\n",
    "        "
   ]
  },
  {
   "cell_type": "markdown",
   "metadata": {},
   "source": [
    "#  dictionary"
   ]
  },
  {
   "cell_type": "code",
   "execution_count": null,
   "metadata": {},
   "outputs": [],
   "source": []
  }
 ],
 "metadata": {
  "kernelspec": {
   "display_name": "Python 3",
   "language": "python",
   "name": "python3"
  },
  "language_info": {
   "codemirror_mode": {
    "name": "ipython",
    "version": 3
   },
   "file_extension": ".py",
   "mimetype": "text/x-python",
   "name": "python",
   "nbconvert_exporter": "python",
   "pygments_lexer": "ipython3",
   "version": "3.7.3"
  }
 },
 "nbformat": 4,
 "nbformat_minor": 2
}
