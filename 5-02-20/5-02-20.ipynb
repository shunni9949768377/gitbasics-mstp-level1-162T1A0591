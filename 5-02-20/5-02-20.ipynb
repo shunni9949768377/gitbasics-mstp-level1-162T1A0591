{
 "cells": [
  {
   "cell_type": "markdown",
   "metadata": {},
   "source": [
    "## Machine learning"
   ]
  },
  {
   "cell_type": "markdown",
   "metadata": {},
   "source": [
    "## Introduction to machine learning\n",
    "machine learning is not just a simple algorithm which ypu can put anywhere \n",
    "and start getting results\n",
    "It is a process that start with defining data,and ends with a model with\n",
    "same defined level of accuracy..\n"
   ]
  },
  {
   "cell_type": "markdown",
   "metadata": {},
   "source": [
    "# steps involved in machine learning\n",
    "1.defining the problem\n",
    " [p-performance\n",
    "  e-experiance\n",
    "  t-task]\n",
    "2,collecting data using pandas\n",
    "\n",
    "3,prepare the data\n",
    "\n",
    "4,split the data in training and testing\n",
    "\n",
    "5,algorithm selection\n",
    "\n",
    "6,training the algorithm\n",
    "\n",
    "7,evaluation on test data\n",
    "\n",
    "8,parameter tuning\n",
    "\n",
    "9,start using ur model"
   ]
  },
  {
   "cell_type": "markdown",
   "metadata": {},
   "source": [
    "## Types of ML\n",
    "1.supervised learning:\n",
    "     in supervised learning algorithms are \n",
    "\n",
    "2.unsupervised learning\n",
    "\n",
    "3.reinforcement learning"
   ]
  },
  {
   "cell_type": "code",
   "execution_count": null,
   "metadata": {},
   "outputs": [],
   "source": [
    "                        machine learning\n",
    "    \n",
    "    supervised                 unsupervised                 reinforcement\n",
    "     \n",
    "    *taskdriven                *datadriven                   *trueAi\n",
    "    1 classification            1 clustering                  s/w component\n",
    "    2 regression                2 association                 learn to react\n",
    "                                                            to an environment"
   ]
  },
  {
   "cell_type": "code",
   "execution_count": null,
   "metadata": {},
   "outputs": [],
   "source": [
    "                        Machine Learning\n",
    "    supervised                                 Unsupervised \n",
    "    \n",
    "    Task Driven                                Data Driven\n",
    "    \n",
    "    Classification       Regression               clustering\n",
    "    \n",
    "    1 Desion Trees       1 simplelinear               1 k means\n",
    "    2 bayesian nw        2 lasso regression           2 mean shift\n",
    "    3 support vector     3 logistic regression        3 gaussian mixture\n",
    "        machines \n",
    "    4 random forest      4 multiple regression        4 EM-clustering     \n",
    "    5 neutral nw         5 boosting                   5 hierarchical clustering\n",
    "    "
   ]
  },
  {
   "cell_type": "markdown",
   "metadata": {},
   "source": [
    "# Regression"
   ]
  },
  {
   "cell_type": "markdown",
   "metadata": {},
   "source": [
    "# y=f(x)"
   ]
  },
  {
   "cell_type": "code",
   "execution_count": null,
   "metadata": {},
   "outputs": [],
   "source": [
    "y--> dependent variable,the response variable or the predicted variable\n",
    "x-->independent variable"
   ]
  },
  {
   "cell_type": "markdown",
   "metadata": {},
   "source": [
    "# y=mx+c"
   ]
  },
  {
   "cell_type": "code",
   "execution_count": 3,
   "metadata": {},
   "outputs": [],
   "source": [
    "similar to ay=b1x+b0\n",
    "b1(m)-->slope\n",
    "b0(c)-->intercept/coefficient\n"
   ]
  },
  {
   "cell_type": "code",
   "execution_count": null,
   "metadata": {},
   "outputs": [],
   "source": [
    "msx(x,h(theta))=1/m summation(theta(transpose).x(i)-y(i))^2\n"
   ]
  },
  {
   "cell_type": "code",
   "execution_count": 2,
   "metadata": {},
   "outputs": [],
   "source": [
    "import pandas as pd\n",
    "import numpy as np\n",
    "import matplotlib.pyplot as plt"
   ]
  },
  {
   "cell_type": "markdown",
   "metadata": {},
   "source": [
    "# Reading the data"
   ]
  },
  {
   "cell_type": "code",
   "execution_count": 3,
   "metadata": {},
   "outputs": [
    {
     "data": {
      "text/html": [
       "<div>\n",
       "<style scoped>\n",
       "    .dataframe tbody tr th:only-of-type {\n",
       "        vertical-align: middle;\n",
       "    }\n",
       "\n",
       "    .dataframe tbody tr th {\n",
       "        vertical-align: top;\n",
       "    }\n",
       "\n",
       "    .dataframe thead th {\n",
       "        text-align: right;\n",
       "    }\n",
       "</style>\n",
       "<table border=\"1\" class=\"dataframe\">\n",
       "  <thead>\n",
       "    <tr style=\"text-align: right;\">\n",
       "      <th></th>\n",
       "      <th>Unnamed: 0</th>\n",
       "      <th>TV</th>\n",
       "      <th>radio</th>\n",
       "      <th>newspaper</th>\n",
       "      <th>sales</th>\n",
       "    </tr>\n",
       "  </thead>\n",
       "  <tbody>\n",
       "    <tr>\n",
       "      <th>195</th>\n",
       "      <td>196</td>\n",
       "      <td>38.2</td>\n",
       "      <td>3.7</td>\n",
       "      <td>13.8</td>\n",
       "      <td>7.6</td>\n",
       "    </tr>\n",
       "    <tr>\n",
       "      <th>196</th>\n",
       "      <td>197</td>\n",
       "      <td>94.2</td>\n",
       "      <td>4.9</td>\n",
       "      <td>8.1</td>\n",
       "      <td>9.7</td>\n",
       "    </tr>\n",
       "    <tr>\n",
       "      <th>197</th>\n",
       "      <td>198</td>\n",
       "      <td>177.0</td>\n",
       "      <td>9.3</td>\n",
       "      <td>6.4</td>\n",
       "      <td>12.8</td>\n",
       "    </tr>\n",
       "    <tr>\n",
       "      <th>198</th>\n",
       "      <td>199</td>\n",
       "      <td>283.6</td>\n",
       "      <td>42.0</td>\n",
       "      <td>66.2</td>\n",
       "      <td>25.5</td>\n",
       "    </tr>\n",
       "    <tr>\n",
       "      <th>199</th>\n",
       "      <td>200</td>\n",
       "      <td>232.1</td>\n",
       "      <td>8.6</td>\n",
       "      <td>8.7</td>\n",
       "      <td>13.4</td>\n",
       "    </tr>\n",
       "  </tbody>\n",
       "</table>\n",
       "</div>"
      ],
      "text/plain": [
       "     Unnamed: 0     TV  radio  newspaper  sales\n",
       "195         196   38.2    3.7       13.8    7.6\n",
       "196         197   94.2    4.9        8.1    9.7\n",
       "197         198  177.0    9.3        6.4   12.8\n",
       "198         199  283.6   42.0       66.2   25.5\n",
       "199         200  232.1    8.6        8.7   13.4"
      ]
     },
     "execution_count": 3,
     "metadata": {},
     "output_type": "execute_result"
    }
   ],
   "source": [
    "data=pd.read_csv(\"advertising.csv\")\n",
    "data.tail()"
   ]
  },
  {
   "cell_type": "code",
   "execution_count": 5,
   "metadata": {},
   "outputs": [
    {
     "data": {
      "text/html": [
       "<div>\n",
       "<style scoped>\n",
       "    .dataframe tbody tr th:only-of-type {\n",
       "        vertical-align: middle;\n",
       "    }\n",
       "\n",
       "    .dataframe tbody tr th {\n",
       "        vertical-align: top;\n",
       "    }\n",
       "\n",
       "    .dataframe thead th {\n",
       "        text-align: right;\n",
       "    }\n",
       "</style>\n",
       "<table border=\"1\" class=\"dataframe\">\n",
       "  <thead>\n",
       "    <tr style=\"text-align: right;\">\n",
       "      <th></th>\n",
       "      <th>TV</th>\n",
       "      <th>radio</th>\n",
       "      <th>newspaper</th>\n",
       "      <th>sales</th>\n",
       "    </tr>\n",
       "  </thead>\n",
       "  <tbody>\n",
       "    <tr>\n",
       "      <th>195</th>\n",
       "      <td>38.2</td>\n",
       "      <td>3.7</td>\n",
       "      <td>13.8</td>\n",
       "      <td>7.6</td>\n",
       "    </tr>\n",
       "    <tr>\n",
       "      <th>196</th>\n",
       "      <td>94.2</td>\n",
       "      <td>4.9</td>\n",
       "      <td>8.1</td>\n",
       "      <td>9.7</td>\n",
       "    </tr>\n",
       "    <tr>\n",
       "      <th>197</th>\n",
       "      <td>177.0</td>\n",
       "      <td>9.3</td>\n",
       "      <td>6.4</td>\n",
       "      <td>12.8</td>\n",
       "    </tr>\n",
       "    <tr>\n",
       "      <th>198</th>\n",
       "      <td>283.6</td>\n",
       "      <td>42.0</td>\n",
       "      <td>66.2</td>\n",
       "      <td>25.5</td>\n",
       "    </tr>\n",
       "    <tr>\n",
       "      <th>199</th>\n",
       "      <td>232.1</td>\n",
       "      <td>8.6</td>\n",
       "      <td>8.7</td>\n",
       "      <td>13.4</td>\n",
       "    </tr>\n",
       "  </tbody>\n",
       "</table>\n",
       "</div>"
      ],
      "text/plain": [
       "        TV  radio  newspaper  sales\n",
       "195   38.2    3.7       13.8    7.6\n",
       "196   94.2    4.9        8.1    9.7\n",
       "197  177.0    9.3        6.4   12.8\n",
       "198  283.6   42.0       66.2   25.5\n",
       "199  232.1    8.6        8.7   13.4"
      ]
     },
     "execution_count": 5,
     "metadata": {},
     "output_type": "execute_result"
    }
   ],
   "source": [
    "data.drop(\"Unnamed: 0\",axis=1,inplace=True)\n",
    "data.tail()"
   ]
  },
  {
   "cell_type": "code",
   "execution_count": 7,
   "metadata": {},
   "outputs": [
    {
     "name": "stdout",
     "output_type": "stream",
     "text": [
      "(200,)\n"
     ]
    },
    {
     "data": {
      "text/plain": [
       "array([230.1,  44.5,  17.2, 151.5, 180.8,   8.7,  57.5, 120.2,   8.6,\n",
       "       199.8,  66.1, 214.7,  23.8,  97.5, 204.1, 195.4,  67.8, 281.4,\n",
       "        69.2, 147.3, 218.4, 237.4,  13.2, 228.3,  62.3, 262.9, 142.9,\n",
       "       240.1, 248.8,  70.6, 292.9, 112.9,  97.2, 265.6,  95.7, 290.7,\n",
       "       266.9,  74.7,  43.1, 228. , 202.5, 177. , 293.6, 206.9,  25.1,\n",
       "       175.1,  89.7, 239.9, 227.2,  66.9, 199.8, 100.4, 216.4, 182.6,\n",
       "       262.7, 198.9,   7.3, 136.2, 210.8, 210.7,  53.5, 261.3, 239.3,\n",
       "       102.7, 131.1,  69. ,  31.5, 139.3, 237.4, 216.8, 199.1, 109.8,\n",
       "        26.8, 129.4, 213.4,  16.9,  27.5, 120.5,   5.4, 116. ,  76.4,\n",
       "       239.8,  75.3,  68.4, 213.5, 193.2,  76.3, 110.7,  88.3, 109.8,\n",
       "       134.3,  28.6, 217.7, 250.9, 107.4, 163.3, 197.6, 184.9, 289.7,\n",
       "       135.2, 222.4, 296.4, 280.2, 187.9, 238.2, 137.9,  25. ,  90.4,\n",
       "        13.1, 255.4, 225.8, 241.7, 175.7, 209.6,  78.2,  75.1, 139.2,\n",
       "        76.4, 125.7,  19.4, 141.3,  18.8, 224. , 123.1, 229.5,  87.2,\n",
       "         7.8,  80.2, 220.3,  59.6,   0.7, 265.2,   8.4, 219.8,  36.9,\n",
       "        48.3,  25.6, 273.7,  43. , 184.9,  73.4, 193.7, 220.5, 104.6,\n",
       "        96.2, 140.3, 240.1, 243.2,  38. ,  44.7, 280.7, 121. , 197.6,\n",
       "       171.3, 187.8,   4.1,  93.9, 149.8,  11.7, 131.7, 172.5,  85.7,\n",
       "       188.4, 163.5, 117.2, 234.5,  17.9, 206.8, 215.4, 284.3,  50. ,\n",
       "       164.5,  19.6, 168.4, 222.4, 276.9, 248.4, 170.2, 276.7, 165.6,\n",
       "       156.6, 218.5,  56.2, 287.6, 253.8, 205. , 139.5, 191.1, 286. ,\n",
       "        18.7,  39.5,  75.5,  17.2, 166.8, 149.7,  38.2,  94.2, 177. ,\n",
       "       283.6, 232.1])"
      ]
     },
     "execution_count": 7,
     "metadata": {},
     "output_type": "execute_result"
    }
   ],
   "source": [
    "x=data[\"TV\"].values\n",
    "print(x.shape)\n",
    "x"
   ]
  },
  {
   "cell_type": "code",
   "execution_count": 8,
   "metadata": {},
   "outputs": [
    {
     "name": "stdout",
     "output_type": "stream",
     "text": [
      "(200,)\n"
     ]
    },
    {
     "data": {
      "text/plain": [
       "array([22.1, 10.4,  9.3, 18.5, 12.9,  7.2, 11.8, 13.2,  4.8, 10.6,  8.6,\n",
       "       17.4,  9.2,  9.7, 19. , 22.4, 12.5, 24.4, 11.3, 14.6, 18. , 12.5,\n",
       "        5.6, 15.5,  9.7, 12. , 15. , 15.9, 18.9, 10.5, 21.4, 11.9,  9.6,\n",
       "       17.4,  9.5, 12.8, 25.4, 14.7, 10.1, 21.5, 16.6, 17.1, 20.7, 12.9,\n",
       "        8.5, 14.9, 10.6, 23.2, 14.8,  9.7, 11.4, 10.7, 22.6, 21.2, 20.2,\n",
       "       23.7,  5.5, 13.2, 23.8, 18.4,  8.1, 24.2, 15.7, 14. , 18. ,  9.3,\n",
       "        9.5, 13.4, 18.9, 22.3, 18.3, 12.4,  8.8, 11. , 17. ,  8.7,  6.9,\n",
       "       14.2,  5.3, 11. , 11.8, 12.3, 11.3, 13.6, 21.7, 15.2, 12. , 16. ,\n",
       "       12.9, 16.7, 11.2,  7.3, 19.4, 22.2, 11.5, 16.9, 11.7, 15.5, 25.4,\n",
       "       17.2, 11.7, 23.8, 14.8, 14.7, 20.7, 19.2,  7.2,  8.7,  5.3, 19.8,\n",
       "       13.4, 21.8, 14.1, 15.9, 14.6, 12.6, 12.2,  9.4, 15.9,  6.6, 15.5,\n",
       "        7. , 11.6, 15.2, 19.7, 10.6,  6.6,  8.8, 24.7,  9.7,  1.6, 12.7,\n",
       "        5.7, 19.6, 10.8, 11.6,  9.5, 20.8,  9.6, 20.7, 10.9, 19.2, 20.1,\n",
       "       10.4, 11.4, 10.3, 13.2, 25.4, 10.9, 10.1, 16.1, 11.6, 16.6, 19. ,\n",
       "       15.6,  3.2, 15.3, 10.1,  7.3, 12.9, 14.4, 13.3, 14.9, 18. , 11.9,\n",
       "       11.9,  8. , 12.2, 17.1, 15. ,  8.4, 14.5,  7.6, 11.7, 11.5, 27. ,\n",
       "       20.2, 11.7, 11.8, 12.6, 10.5, 12.2,  8.7, 26.2, 17.6, 22.6, 10.3,\n",
       "       17.3, 15.9,  6.7, 10.8,  9.9,  5.9, 19.6, 17.3,  7.6,  9.7, 12.8,\n",
       "       25.5, 13.4])"
      ]
     },
     "execution_count": 8,
     "metadata": {},
     "output_type": "execute_result"
    }
   ],
   "source": [
    "y=data[\"sales\"].values\n",
    "print(y.shape)\n",
    "y"
   ]
  },
  {
   "cell_type": "code",
   "execution_count": 9,
   "metadata": {},
   "outputs": [
    {
     "name": "stdout",
     "output_type": "stream",
     "text": [
      "x mean: 147.0425\n",
      "y mean: 14.0225\n"
     ]
    }
   ],
   "source": [
    "x_mean=np.mean(x)\n",
    "print(\"x mean:\",x_mean)\n",
    "y_mean=np.mean(y)\n",
    "print(\"y mean:\",y_mean)"
   ]
  },
  {
   "cell_type": "markdown",
   "metadata": {},
   "source": [
    "# calculating error"
   ]
  },
  {
   "cell_type": "code",
   "execution_count": 11,
   "metadata": {},
   "outputs": [
    {
     "name": "stdout",
     "output_type": "stream",
     "text": [
      "200\n",
      "slobe: 0.04753664043301969\n",
      "intercept: 7.032593549127704\n"
     ]
    }
   ],
   "source": [
    "n=len(x)\n",
    "print(n)\n",
    "numer=0\n",
    "denom=0\n",
    "for i in range(n):\n",
    "    numer+=(x[i]-x_mean)*(y[i]-y_mean)\n",
    "    denom+=(x[i]-x_mean)**2\n",
    "b1=numer/denom\n",
    "b0=y_mean-(b1*x_mean)\n",
    "print(\"slobe:\",b1)\n",
    "print(\"intercept:\",b0)"
   ]
  },
  {
   "cell_type": "markdown",
   "metadata": {},
   "source": [
    "# y=mx+c"
   ]
  },
  {
   "cell_type": "code",
   "execution_count": 13,
   "metadata": {},
   "outputs": [
    {
     "name": "stdout",
     "output_type": "stream",
     "text": [
      "Linear Equation:y0.04753664043301969x+7.033\n"
     ]
    }
   ],
   "source": [
    "print(\"Linear Equation:y{:5}x+{:.4}\".format(b1,b0))"
   ]
  },
  {
   "cell_type": "code",
   "execution_count": 14,
   "metadata": {},
   "outputs": [
    {
     "name": "stdout",
     "output_type": "stream",
     "text": [
      "[17.97077451  9.14797405  7.85022376 14.23439457 15.62721814  7.44616232\n",
      "  9.76595037 12.74649773  7.44140866 16.53041431 10.17476548 17.23871025\n",
      "  8.16396559 11.66741599 16.73482186 16.32125309 10.25557777 20.40940417\n",
      " 10.32212907 14.03474068 17.41459582 18.31779199  7.6600772  17.88520856\n",
      "  9.99412625 19.52997632 13.82557947 18.44614092 18.85970969 10.38868036\n",
      " 20.95607553 12.39948025 11.653155   19.65832525 11.58185004 20.85149492\n",
      " 19.72012288 10.58358059  9.08142275 17.87094757 16.65876324 15.44657891\n",
      " 20.98935118 16.86792445  8.22576322 15.35625929 11.2966302  18.43663359\n",
      " 17.83291826 10.21279479 16.53041431 11.80527225 17.31952254 15.71278409\n",
      " 19.52046899 16.48763133  7.37961102 13.50708398 17.05331735 17.04856369\n",
      "  9.57580381 19.45391769 18.4081116  11.91460652 13.26464711 10.31262174\n",
      "  8.52999772 13.65444756 18.31779199 17.3385372  16.49713866 12.25211667\n",
      "  8.30657551 13.18383482 17.17691262  7.83596277  8.33985116 12.76075872\n",
      "  7.28929141 12.54684384 10.66439288 18.43187992 10.61210257 10.28409975\n",
      " 17.18166628 16.21667248 10.65963921 12.29489965 11.2300789  12.25211667\n",
      " 13.41676436  8.39214147 17.38132017 18.95953663 12.13802873 14.79532693\n",
      " 16.4258337  15.82211837 20.80395828 13.45954734 17.60474238 21.12245377\n",
      " 20.3523602  15.96472829 18.3558213  13.58789626  8.22100956 11.32990584\n",
      "  7.65532354 19.17345152 17.76636696 18.52219954 15.38478127 16.99627338\n",
      " 10.74995883 10.60259525 13.6496939  10.66439288 13.00794925  7.95480437\n",
      " 13.74952084  7.92628239 17.68080101 12.88435399 17.94225253 11.17778859\n",
      "  7.40337934 10.84503211 17.50491544  9.86577732  7.0658692  19.63931059\n",
      "  7.43190133 17.48114712  8.78669558  9.32861328  8.24953154 20.04337204\n",
      "  9.07666909 15.82211837 10.52178296 16.2404408  17.51442276 12.00492614\n",
      " 11.60561836 13.7019842  18.44614092 18.5935045   8.83898589  9.15748138\n",
      " 20.37612852 12.78452704 16.4258337  15.17562006 15.95997462  7.22749377\n",
      " 11.49628409 14.15358229  7.58877224 13.29316909 15.23266402 11.10648363\n",
      " 15.98849661 14.80483426 12.60388781 18.17993573  7.88349941 16.86317079\n",
      " 17.2719859  20.54726042  9.40942557 14.8523709   7.9643117  15.0377638\n",
      " 17.60474238 20.19548929 18.84069503 15.12332975 20.18598196 14.9046612\n",
      " 14.47683144 17.41934948  9.70415274 20.70413134 19.09739289 16.77760484\n",
      " 13.66395489 16.11684554 20.62807271  7.92152873  8.91029085 10.6216099\n",
      "  7.85022376 14.96170517 14.14882862  8.84849321 11.51054508 15.44657891\n",
      " 20.51398478 18.06584779]\n"
     ]
    }
   ],
   "source": [
    "y_predict=b1*x+b0\n",
    "print(y_predict)"
   ]
  },
  {
   "cell_type": "code",
   "execution_count": 15,
   "metadata": {},
   "outputs": [
    {
     "name": "stdout",
     "output_type": "stream",
     "text": [
      "[17.97077451  9.14797405  7.85022376 14.23439457 15.62721814  7.44616232\n",
      "  9.76595037 12.74649773  7.44140866 16.53041431 10.17476548 17.23871025\n",
      "  8.16396559 11.66741599 16.73482186 16.32125309 10.25557777 20.40940417\n",
      " 10.32212907 14.03474068 17.41459582 18.31779199  7.6600772  17.88520856\n",
      "  9.99412625 19.52997632 13.82557947 18.44614092 18.85970969 10.38868036\n",
      " 20.95607553 12.39948025 11.653155   19.65832525 11.58185004 20.85149492\n",
      " 19.72012288 10.58358059  9.08142275 17.87094757 16.65876324 15.44657891\n",
      " 20.98935118 16.86792445  8.22576322 15.35625929 11.2966302  18.43663359\n",
      " 17.83291826 10.21279479 16.53041431 11.80527225 17.31952254 15.71278409\n",
      " 19.52046899 16.48763133  7.37961102 13.50708398 17.05331735 17.04856369\n",
      "  9.57580381 19.45391769 18.4081116  11.91460652 13.26464711 10.31262174\n",
      "  8.52999772 13.65444756 18.31779199 17.3385372  16.49713866 12.25211667\n",
      "  8.30657551 13.18383482 17.17691262  7.83596277  8.33985116 12.76075872\n",
      "  7.28929141 12.54684384 10.66439288 18.43187992 10.61210257 10.28409975\n",
      " 17.18166628 16.21667248 10.65963921 12.29489965 11.2300789  12.25211667\n",
      " 13.41676436  8.39214147 17.38132017 18.95953663 12.13802873 14.79532693\n",
      " 16.4258337  15.82211837 20.80395828 13.45954734 17.60474238 21.12245377\n",
      " 20.3523602  15.96472829 18.3558213  13.58789626  8.22100956 11.32990584\n",
      "  7.65532354 19.17345152 17.76636696 18.52219954 15.38478127 16.99627338\n",
      " 10.74995883 10.60259525 13.6496939  10.66439288 13.00794925  7.95480437\n",
      " 13.74952084  7.92628239 17.68080101 12.88435399 17.94225253 11.17778859\n",
      "  7.40337934 10.84503211 17.50491544  9.86577732  7.0658692  19.63931059\n",
      "  7.43190133 17.48114712  8.78669558  9.32861328  8.24953154 20.04337204\n",
      "  9.07666909 15.82211837 10.52178296 16.2404408  17.51442276 12.00492614\n",
      " 11.60561836 13.7019842  18.44614092 18.5935045   8.83898589  9.15748138\n",
      " 20.37612852 12.78452704 16.4258337  15.17562006 15.95997462  7.22749377\n",
      " 11.49628409 14.15358229  7.58877224 13.29316909 15.23266402 11.10648363\n",
      " 15.98849661 14.80483426 12.60388781 18.17993573  7.88349941 16.86317079\n",
      " 17.2719859  20.54726042  9.40942557 14.8523709   7.9643117  15.0377638\n",
      " 17.60474238 20.19548929 18.84069503 15.12332975 20.18598196 14.9046612\n",
      " 14.47683144 17.41934948  9.70415274 20.70413134 19.09739289 16.77760484\n",
      " 13.66395489 16.11684554 20.62807271  7.92152873  8.91029085 10.6216099\n",
      "  7.85022376 14.96170517 14.14882862  8.84849321 11.51054508 15.44657891\n",
      " 20.51398478 18.06584779]\n"
     ]
    }
   ],
   "source": [
    "y=b1*x+b0\n",
    "print(y)"
   ]
  },
  {
   "cell_type": "markdown",
   "metadata": {},
   "source": [
    "#     r2 score"
   ]
  },
  {
   "cell_type": "code",
   "execution_count": 57,
   "metadata": {
    "scrolled": true
   },
   "outputs": [
    {
     "name": "stdout",
     "output_type": "stream",
     "text": [
      "r2 score: [ 0.05938658 -0.43370983 -1.29872595  0.99729083  0.8446204  -1.60954445\n",
      " -0.09323088  0.9017575  -1.6133184   0.62049118  0.10668076  0.37585521\n",
      " -1.07097311  0.66533577  0.55610634  0.68115388  0.1438107  -1.46137219\n",
      "  0.17379654  0.99999096  0.3057231  -0.11322224 -1.44253919  0.09971426\n",
      "  0.02083472 -0.83021355  0.9976602  -0.18074529 -0.41184272  0.20324789\n",
      " -1.90075461  0.84105602  0.66127044 -0.91651193  0.64057566 -1.81390913\n",
      " -0.95877201  0.28642359 -0.4731256   0.10634963  0.58065252  0.87763292\n",
      " -1.92866405  0.51147071 -1.02751301  0.89266252  0.55166081 -0.17567541\n",
      "  0.12392399  0.12425184  0.62049118  0.70336861  0.34409594  0.82760848\n",
      " -0.82390016  0.63332896 -1.66262789  0.98397078  0.44573683  0.44747413\n",
      " -0.19308505 -0.78001186 -0.16053121  0.73190185  0.96534497  0.16954557\n",
      " -0.8202749   0.99182635 -0.11322224  0.33650863  0.63049521  0.81088276\n",
      " -0.97137595  0.95756016  0.39960994 -1.30936059 -0.94848976  0.90394121\n",
      " -1.73552462  0.86860863  0.31956667 -0.17314456  0.29821114  0.15672722\n",
      "  0.39779902  0.70950543  0.31763889  0.81991271  0.52950143  0.81088276\n",
      "  0.97786076 -0.91279572  0.31927767 -0.47071726  0.78572301  0.96396197\n",
      "  0.65148246  0.80458526 -1.77487023  0.98087769  0.22570505 -2.04163804\n",
      " -1.41760155  0.77238701 -0.13302182  0.98860319 -1.03083973  0.56254006\n",
      " -1.44619042 -0.60092657  0.15425916 -0.22169704  0.88802268  0.46640441\n",
      "  0.35380034  0.29429286  0.99161385  0.31956667  0.9378925  -1.22148847\n",
      "  0.9955037  -1.24242234  0.19247614  0.92183858  0.07292731  0.51171552\n",
      " -1.64360817  0.39080149  0.26825856 -0.04255408 -1.92007765 -0.90360154\n",
      " -1.62087448  0.2782131  -0.65410594 -0.32941844 -1.0109203  -1.18733491\n",
      " -0.47596146  0.80458526  0.26054712  0.70317779  0.26425766  0.75438472\n",
      "  0.6475421   0.99380137 -0.18074529 -0.26072332 -0.6212316  -0.42812264\n",
      " -1.43579159  0.90752618  0.65148246  0.91976838  0.77349983 -1.78596854\n",
      "  0.61493201  0.99896323 -1.49759404  0.96790438  0.91163405  0.48693026\n",
      "  0.76678203  0.96306984  0.8785706  -0.04291179 -1.27400722  0.51310165\n",
      "  0.3628733  -1.56877242 -0.28403663  0.95844555 -1.21453233  0.93780517\n",
      "  0.22570505 -1.2992571  -0.40076487  0.9268799  -1.29218015  0.95304386\n",
      "  0.98754505  0.30377583 -0.1252049  -1.69377618 -0.55399727  0.54199233\n",
      "  0.99224317  0.73533704 -1.63279742 -1.24592086 -0.57693472  0.3021185\n",
      " -1.29872595  0.94677478  0.99903706 -0.6152899   0.61926731  0.87763292\n",
      " -1.54263825  0.0135418 ]\n"
     ]
    }
   ],
   "source": [
    "n1=0\n",
    "d1=0\n",
    "for i in range(n):\n",
    "    n1+=(y_predict-y_mean)**2\n",
    "    d1+=(y[i]-y_mean)**2\n",
    "r2=1-n1/d1\n",
    "print(\"r2 score:\",r2)"
   ]
  },
  {
   "cell_type": "code",
   "execution_count": 59,
   "metadata": {},
   "outputs": [
    {
     "data": {
      "text/plain": [
       "<matplotlib.legend.Legend at 0xc334470>"
      ]
     },
     "execution_count": 59,
     "metadata": {},
     "output_type": "execute_result"
    },
    {
     "data": {
      "image/png": "[encoded data removed]",
      "text/plain": [
       "<Figure size 432x288 with 1 Axes>"
      ]
     },
     "metadata": {
      "needs_background": "light"
     },
     "output_type": "display_data"
    }
   ],
   "source": [
    "plt.scatter(x,y_predict,label=\"linear wave\")\n",
    "plt.xlabel(\"x\")\n",
    "plt.ylabel(\"y_predicted values\")\n",
    "plt.title(\"linear regression with model including\")\n",
    "plt.legend()"
   ]
  },
  {
   "cell_type": "markdown",
   "metadata": {},
   "source": [
    "# sklearn"
   ]
  },
  {
   "cell_type": "code",
   "execution_count": 60,
   "metadata": {},
   "outputs": [],
   "source": [
    "from sklearn.linear_model import LinearRegression\n"
   ]
  },
  {
   "cell_type": "code",
   "execution_count": 61,
   "metadata": {},
   "outputs": [
    {
     "data": {
      "text/plain": [
       "array([[230.1],\n",
       "       [ 44.5],\n",
       "       [ 17.2],\n",
       "       [151.5],\n",
       "       [180.8],\n",
       "       [  8.7],\n",
       "       [ 57.5],\n",
       "       [120.2],\n",
       "       [  8.6],\n",
       "       [199.8],\n",
       "       [ 66.1],\n",
       "       [214.7],\n",
       "       [ 23.8],\n",
       "       [ 97.5],\n",
       "       [204.1],\n",
       "       [195.4],\n",
       "       [ 67.8],\n",
       "       [281.4],\n",
       "       [ 69.2],\n",
       "       [147.3],\n",
       "       [218.4],\n",
       "       [237.4],\n",
       "       [ 13.2],\n",
       "       [228.3],\n",
       "       [ 62.3],\n",
       "       [262.9],\n",
       "       [142.9],\n",
       "       [240.1],\n",
       "       [248.8],\n",
       "       [ 70.6],\n",
       "       [292.9],\n",
       "       [112.9],\n",
       "       [ 97.2],\n",
       "       [265.6],\n",
       "       [ 95.7],\n",
       "       [290.7],\n",
       "       [266.9],\n",
       "       [ 74.7],\n",
       "       [ 43.1],\n",
       "       [228. ],\n",
       "       [202.5],\n",
       "       [177. ],\n",
       "       [293.6],\n",
       "       [206.9],\n",
       "       [ 25.1],\n",
       "       [175.1],\n",
       "       [ 89.7],\n",
       "       [239.9],\n",
       "       [227.2],\n",
       "       [ 66.9],\n",
       "       [199.8],\n",
       "       [100.4],\n",
       "       [216.4],\n",
       "       [182.6],\n",
       "       [262.7],\n",
       "       [198.9],\n",
       "       [  7.3],\n",
       "       [136.2],\n",
       "       [210.8],\n",
       "       [210.7],\n",
       "       [ 53.5],\n",
       "       [261.3],\n",
       "       [239.3],\n",
       "       [102.7],\n",
       "       [131.1],\n",
       "       [ 69. ],\n",
       "       [ 31.5],\n",
       "       [139.3],\n",
       "       [237.4],\n",
       "       [216.8],\n",
       "       [199.1],\n",
       "       [109.8],\n",
       "       [ 26.8],\n",
       "       [129.4],\n",
       "       [213.4],\n",
       "       [ 16.9],\n",
       "       [ 27.5],\n",
       "       [120.5],\n",
       "       [  5.4],\n",
       "       [116. ],\n",
       "       [ 76.4],\n",
       "       [239.8],\n",
       "       [ 75.3],\n",
       "       [ 68.4],\n",
       "       [213.5],\n",
       "       [193.2],\n",
       "       [ 76.3],\n",
       "       [110.7],\n",
       "       [ 88.3],\n",
       "       [109.8],\n",
       "       [134.3],\n",
       "       [ 28.6],\n",
       "       [217.7],\n",
       "       [250.9],\n",
       "       [107.4],\n",
       "       [163.3],\n",
       "       [197.6],\n",
       "       [184.9],\n",
       "       [289.7],\n",
       "       [135.2],\n",
       "       [222.4],\n",
       "       [296.4],\n",
       "       [280.2],\n",
       "       [187.9],\n",
       "       [238.2],\n",
       "       [137.9],\n",
       "       [ 25. ],\n",
       "       [ 90.4],\n",
       "       [ 13.1],\n",
       "       [255.4],\n",
       "       [225.8],\n",
       "       [241.7],\n",
       "       [175.7],\n",
       "       [209.6],\n",
       "       [ 78.2],\n",
       "       [ 75.1],\n",
       "       [139.2],\n",
       "       [ 76.4],\n",
       "       [125.7],\n",
       "       [ 19.4],\n",
       "       [141.3],\n",
       "       [ 18.8],\n",
       "       [224. ],\n",
       "       [123.1],\n",
       "       [229.5],\n",
       "       [ 87.2],\n",
       "       [  7.8],\n",
       "       [ 80.2],\n",
       "       [220.3],\n",
       "       [ 59.6],\n",
       "       [  0.7],\n",
       "       [265.2],\n",
       "       [  8.4],\n",
       "       [219.8],\n",
       "       [ 36.9],\n",
       "       [ 48.3],\n",
       "       [ 25.6],\n",
       "       [273.7],\n",
       "       [ 43. ],\n",
       "       [184.9],\n",
       "       [ 73.4],\n",
       "       [193.7],\n",
       "       [220.5],\n",
       "       [104.6],\n",
       "       [ 96.2],\n",
       "       [140.3],\n",
       "       [240.1],\n",
       "       [243.2],\n",
       "       [ 38. ],\n",
       "       [ 44.7],\n",
       "       [280.7],\n",
       "       [121. ],\n",
       "       [197.6],\n",
       "       [171.3],\n",
       "       [187.8],\n",
       "       [  4.1],\n",
       "       [ 93.9],\n",
       "       [149.8],\n",
       "       [ 11.7],\n",
       "       [131.7],\n",
       "       [172.5],\n",
       "       [ 85.7],\n",
       "       [188.4],\n",
       "       [163.5],\n",
       "       [117.2],\n",
       "       [234.5],\n",
       "       [ 17.9],\n",
       "       [206.8],\n",
       "       [215.4],\n",
       "       [284.3],\n",
       "       [ 50. ],\n",
       "       [164.5],\n",
       "       [ 19.6],\n",
       "       [168.4],\n",
       "       [222.4],\n",
       "       [276.9],\n",
       "       [248.4],\n",
       "       [170.2],\n",
       "       [276.7],\n",
       "       [165.6],\n",
       "       [156.6],\n",
       "       [218.5],\n",
       "       [ 56.2],\n",
       "       [287.6],\n",
       "       [253.8],\n",
       "       [205. ],\n",
       "       [139.5],\n",
       "       [191.1],\n",
       "       [286. ],\n",
       "       [ 18.7],\n",
       "       [ 39.5],\n",
       "       [ 75.5],\n",
       "       [ 17.2],\n",
       "       [166.8],\n",
       "       [149.7],\n",
       "       [ 38.2],\n",
       "       [ 94.2],\n",
       "       [177. ],\n",
       "       [283.6],\n",
       "       [232.1]])"
      ]
     },
     "execution_count": 61,
     "metadata": {},
     "output_type": "execute_result"
    }
   ],
   "source": [
    "x=data[\"TV\"].values.reshape(-1,1)\n",
    "x"
   ]
  },
  {
   "cell_type": "code",
   "execution_count": 62,
   "metadata": {},
   "outputs": [
    {
     "data": {
      "text/plain": [
       "LinearRegression(copy_X=True, fit_intercept=True, n_jobs=None, normalize=False)"
      ]
     },
     "execution_count": 62,
     "metadata": {},
     "output_type": "execute_result"
    }
   ],
   "source": [
    "reg=LinearRegression()\n",
    "reg.fit(x,y)"
   ]
  },
  {
   "cell_type": "code",
   "execution_count": 63,
   "metadata": {},
   "outputs": [
    {
     "data": {
      "text/plain": [
       "array([0.04753664])"
      ]
     },
     "execution_count": 63,
     "metadata": {},
     "output_type": "execute_result"
    }
   ],
   "source": [
    "reg.coef_\n"
   ]
  },
  {
   "cell_type": "code",
   "execution_count": 64,
   "metadata": {},
   "outputs": [
    {
     "data": {
      "text/plain": [
       "7.032593549127702"
      ]
     },
     "execution_count": 64,
     "metadata": {},
     "output_type": "execute_result"
    }
   ],
   "source": [
    "reg.intercept_"
   ]
  },
  {
   "cell_type": "code",
   "execution_count": 65,
   "metadata": {},
   "outputs": [
    {
     "data": {
      "text/plain": [
       "array([17.97077451,  9.14797405,  7.85022376, 14.23439457, 15.62721814,\n",
       "        7.44616232,  9.76595037, 12.74649773,  7.44140866, 16.53041431,\n",
       "       10.17476548, 17.23871025,  8.16396559, 11.66741599, 16.73482186,\n",
       "       16.32125309, 10.25557777, 20.40940417, 10.32212907, 14.03474068,\n",
       "       17.41459582, 18.31779199,  7.6600772 , 17.88520856,  9.99412625,\n",
       "       19.52997632, 13.82557947, 18.44614092, 18.85970969, 10.38868036,\n",
       "       20.95607553, 12.39948025, 11.653155  , 19.65832525, 11.58185004,\n",
       "       20.85149492, 19.72012288, 10.58358059,  9.08142275, 17.87094757,\n",
       "       16.65876324, 15.44657891, 20.98935118, 16.86792445,  8.22576322,\n",
       "       15.35625929, 11.2966302 , 18.43663359, 17.83291826, 10.21279479,\n",
       "       16.53041431, 11.80527225, 17.31952254, 15.71278409, 19.52046899,\n",
       "       16.48763133,  7.37961102, 13.50708398, 17.05331735, 17.04856369,\n",
       "        9.57580381, 19.45391769, 18.4081116 , 11.91460652, 13.26464711,\n",
       "       10.31262174,  8.52999772, 13.65444756, 18.31779199, 17.3385372 ,\n",
       "       16.49713866, 12.25211667,  8.30657551, 13.18383482, 17.17691262,\n",
       "        7.83596277,  8.33985116, 12.76075872,  7.28929141, 12.54684384,\n",
       "       10.66439288, 18.43187992, 10.61210257, 10.28409975, 17.18166628,\n",
       "       16.21667248, 10.65963921, 12.29489965, 11.2300789 , 12.25211667,\n",
       "       13.41676436,  8.39214147, 17.38132017, 18.95953663, 12.13802873,\n",
       "       14.79532693, 16.4258337 , 15.82211837, 20.80395828, 13.45954734,\n",
       "       17.60474238, 21.12245377, 20.3523602 , 15.96472829, 18.3558213 ,\n",
       "       13.58789626,  8.22100956, 11.32990584,  7.65532354, 19.17345152,\n",
       "       17.76636696, 18.52219954, 15.38478127, 16.99627338, 10.74995883,\n",
       "       10.60259525, 13.6496939 , 10.66439288, 13.00794925,  7.95480437,\n",
       "       13.74952084,  7.92628239, 17.68080101, 12.88435399, 17.94225253,\n",
       "       11.17778859,  7.40337934, 10.84503211, 17.50491544,  9.86577732,\n",
       "        7.0658692 , 19.63931059,  7.43190133, 17.48114712,  8.78669558,\n",
       "        9.32861328,  8.24953154, 20.04337204,  9.07666909, 15.82211837,\n",
       "       10.52178296, 16.2404408 , 17.51442276, 12.00492614, 11.60561836,\n",
       "       13.7019842 , 18.44614092, 18.5935045 ,  8.83898589,  9.15748138,\n",
       "       20.37612852, 12.78452704, 16.4258337 , 15.17562006, 15.95997462,\n",
       "        7.22749377, 11.49628409, 14.15358229,  7.58877224, 13.29316909,\n",
       "       15.23266402, 11.10648363, 15.98849661, 14.80483426, 12.60388781,\n",
       "       18.17993573,  7.88349941, 16.86317079, 17.2719859 , 20.54726042,\n",
       "        9.40942557, 14.8523709 ,  7.9643117 , 15.0377638 , 17.60474238,\n",
       "       20.19548929, 18.84069503, 15.12332975, 20.18598196, 14.9046612 ,\n",
       "       14.47683144, 17.41934948,  9.70415274, 20.70413134, 19.09739289,\n",
       "       16.77760484, 13.66395489, 16.11684554, 20.62807271,  7.92152873,\n",
       "        8.91029085, 10.6216099 ,  7.85022376, 14.96170517, 14.14882862,\n",
       "        8.84849321, 11.51054508, 15.44657891, 20.51398478, 18.06584779])"
      ]
     },
     "execution_count": 65,
     "metadata": {},
     "output_type": "execute_result"
    }
   ],
   "source": [
    "y_predict"
   ]
  },
  {
   "cell_type": "code",
   "execution_count": 66,
   "metadata": {},
   "outputs": [
    {
     "name": "stdout",
     "output_type": "stream",
     "text": [
      "1.0\n"
     ]
    }
   ],
   "source": [
    "score=reg.score(x,y)\n",
    "print(score)"
   ]
  },
  {
   "cell_type": "code",
   "execution_count": 67,
   "metadata": {},
   "outputs": [
    {
     "data": {
      "text/plain": [
       "array([8.86750787])"
      ]
     },
     "execution_count": 67,
     "metadata": {},
     "output_type": "execute_result"
    }
   ],
   "source": [
    "reg.predict([[38.6]])"
   ]
  },
  {
   "cell_type": "code",
   "execution_count": 68,
   "metadata": {},
   "outputs": [
    {
     "data": {
      "image/png": "[encoded data removed]",
      "text/plain": [
       "<Figure size 432x288 with 1 Axes>"
      ]
     },
     "metadata": {
      "needs_background": "light"
     },
     "output_type": "display_data"
    }
   ],
   "source": [
    "import matplotlib.pyplot as plt\n",
    "plt.scatter(x,y,c='m',label=\"before prediction\")\n",
    "plt.plot(x,y_predict,c='r',label=\"LinearRegression\")\n",
    "plt.xlabel(\"x\")\n",
    "plt.ylabel(\"y\")\n",
    "plt.title(\"linearregression model\")\n",
    "plt.legend(loc='best')\n",
    "plt.show()"
   ]
  },
  {
   "cell_type": "code",
   "execution_count": 16,
   "metadata": {},
   "outputs": [],
   "source": [
    "# polynomial---Multiple degree--ax2+bx+c\n",
    "from sklearn.preprocessing import PolynomialFeatures"
   ]
  },
  {
   "cell_type": "code",
   "execution_count": 27,
   "metadata": {},
   "outputs": [
    {
     "name": "stdout",
     "output_type": "stream",
     "text": [
      "[[5.03997480e+00]\n",
      " [4.28012178e+00]\n",
      " [3.95842901e+00]\n",
      " [2.14687557e-03]\n",
      " [5.44678205e+00]\n",
      " [4.78182113e+00]\n",
      " [2.62866466e+00]\n",
      " [2.87563484e+00]\n",
      " [4.57861386e+00]\n",
      " [2.62562470e+00]\n",
      " [5.27405106e+00]\n",
      " [1.89416768e+00]\n",
      " [1.77482421e+00]\n",
      " [4.33320227e+00]\n",
      " [3.87149605e+00]\n",
      " [5.12595195e+00]\n",
      " [2.24195691e+00]\n",
      " [2.88049844e+00]\n",
      " [1.27733016e+00]\n",
      " [2.04601078e+00]\n",
      " [7.10638014e-01]\n",
      " [3.63671668e+00]\n",
      " [5.03006545e+00]\n",
      " [4.54916607e+00]\n",
      " [3.56329697e+00]\n",
      " [4.71649530e+00]\n",
      " [3.90255073e+00]\n",
      " [6.91179665e-01]\n",
      " [3.61042403e+00]\n",
      " [2.98531167e+00]\n",
      " [2.13409625e+00]\n",
      " [1.40663664e+00]\n",
      " [3.54974412e+00]\n",
      " [1.67273143e+00]\n",
      " [3.84882703e+00]\n",
      " [2.28834927e+00]\n",
      " [4.42215277e+00]\n",
      " [5.00025390e+00]\n",
      " [3.35795017e+00]\n",
      " [4.19507362e+00]\n",
      " [5.44022696e+00]\n",
      " [2.69433847e+00]\n",
      " [6.71815247e-01]\n",
      " [3.43720671e+00]\n",
      " [9.52909636e-01]\n",
      " [1.69491063e+00]\n",
      " [5.19124089e+00]\n",
      " [2.63838681e+00]\n",
      " [4.49000079e+00]\n",
      " [5.78689320e+00]\n",
      " [3.31174029e+00]\n",
      " [4.89729126e+00]\n",
      " [2.33979002e+00]\n",
      " [5.93219473e-01]\n",
      " [1.05688939e+00]\n",
      " [3.77985804e-02]\n",
      " [5.28469141e+00]\n",
      " [2.29679330e+00]\n",
      " [2.52705065e+00]\n",
      " [5.75094438e+00]\n",
      " [9.57862630e-01]\n",
      " [5.85717648e+00]\n",
      " [4.85906861e+00]\n",
      " [1.89287093e+00]\n",
      " [5.72237655e+00]\n",
      " [5.31565540e-01]\n",
      " [3.52509478e+00]\n",
      " [3.40610233e+00]\n",
      " [4.99350244e+00]\n",
      " [5.62004418e+00]\n",
      " [5.50534384e+00]\n",
      " [7.96281632e-01]\n",
      " [1.70399290e+00]\n",
      " [1.69486022e+00]\n",
      " [4.83666027e+00]\n",
      " [5.92612775e+00]\n",
      " [1.30836958e+00]\n",
      " [2.88992944e+00]\n",
      " [3.53264067e+00]\n",
      " [5.73464227e+00]\n",
      " [3.48616566e+00]\n",
      " [1.21196589e+00]\n",
      " [7.77600973e-01]\n",
      " [3.36754064e+00]\n",
      " [1.48418529e+00]\n",
      " [2.11633936e+00]\n",
      " [1.62924365e+00]\n",
      " [3.98431636e+00]\n",
      " [1.05480137e+00]\n",
      " [4.59494747e+00]\n",
      " [2.23016173e+00]\n",
      " [5.63825536e-01]\n",
      " [3.44005858e+00]\n",
      " [3.72895683e+00]\n",
      " [5.72416344e+00]\n",
      " [5.24475025e+00]\n",
      " [2.70647761e+00]\n",
      " [2.67166519e+00]\n",
      " [3.17547321e+00]\n",
      " [1.69579822e+00]]\n",
      "[[28.03921129]\n",
      " [21.21058107]\n",
      " [18.6410299 ]\n",
      " [ 0.16945878]\n",
      " [33.20294715]\n",
      " [26.19873902]\n",
      " [ 8.91788376]\n",
      " [10.23547616]\n",
      " [24.00041667]\n",
      " [ 8.75551376]\n",
      " [30.49423891]\n",
      " [ 5.30964153]\n",
      " [ 4.11541492]\n",
      " [21.22108174]\n",
      " [17.39122617]\n",
      " [29.29563445]\n",
      " [ 6.30204281]\n",
      " [10.64220908]\n",
      " [ 2.63504021]\n",
      " [ 5.77161131]\n",
      " [ 1.69244202]\n",
      " [15.77838074]\n",
      " [28.39871225]\n",
      " [23.09294205]\n",
      " [14.59342344]\n",
      " [25.03188565]\n",
      " [17.59992995]\n",
      " [ 0.89297317]\n",
      " [15.83007408]\n",
      " [10.67551162]\n",
      " [ 6.5210019 ]\n",
      " [ 3.2913404 ]\n",
      " [14.89474599]\n",
      " [ 4.51677137]\n",
      " [17.3586301 ]\n",
      " [ 6.47924093]\n",
      " [22.24966836]\n",
      " [27.64887668]\n",
      " [13.60266126]\n",
      " [20.51627253]\n",
      " [32.6382904 ]\n",
      " [ 8.67066591]\n",
      " [ 1.1506164 ]\n",
      " [13.67541967]\n",
      " [ 1.75774361]\n",
      " [ 3.85818832]\n",
      " [30.29140792]\n",
      " [ 8.72058698]\n",
      " [22.59998559]\n",
      " [37.17306489]\n",
      " [13.28617385]\n",
      " [26.47168258]\n",
      " [ 7.60981067]\n",
      " [ 1.52377667]\n",
      " [ 1.77748243]\n",
      " [ 0.96505729]\n",
      " [31.12960473]\n",
      " [ 7.2367188 ]\n",
      " [ 8.08346913]\n",
      " [36.27178062]\n",
      " [ 1.97454721]\n",
      " [38.09098419]\n",
      " [26.54826622]\n",
      " [ 4.91945288]\n",
      " [36.17058874]\n",
      " [ 1.49998389]\n",
      " [14.29378241]\n",
      " [13.71764049]\n",
      " [28.08430283]\n",
      " [35.0847116 ]\n",
      " [33.36018939]\n",
      " [ 1.30819028]\n",
      " [ 3.95637191]\n",
      " [ 4.68851606]\n",
      " [26.34358589]\n",
      " [38.39615126]\n",
      " [ 3.20948679]\n",
      " [10.31108125]\n",
      " [14.53132652]\n",
      " [36.68367367]\n",
      " [14.82398935]\n",
      " [ 2.50264729]\n",
      " [ 1.03120362]\n",
      " [13.42787662]\n",
      " [ 2.96134654]\n",
      " [ 6.44855556]\n",
      " [ 3.93772893]\n",
      " [18.70346023]\n",
      " [ 2.3698083 ]\n",
      " [23.82701658]\n",
      " [ 6.6153648 ]\n",
      " [ 0.94529991]\n",
      " [14.4552453 ]\n",
      " [16.05545258]\n",
      " [35.95908292]\n",
      " [30.22418819]\n",
      " [ 9.23017265]\n",
      " [ 9.43509968]\n",
      " [12.22402608]\n",
      " [ 4.35922614]]\n",
      "(100, 1)\n"
     ]
    }
   ],
   "source": [
    "x1=6*np.random.rand(100,1)\n",
    "print(x1)\n",
    "y1=0.5*x1+x1**2+np.random.rand(100,1)\n",
    "print(y1)\n",
    "print(x1.shape)"
   ]
  },
  {
   "cell_type": "code",
   "execution_count": 22,
   "metadata": {},
   "outputs": [
    {
     "name": "stdout",
     "output_type": "stream",
     "text": [
      "(100, 1)\n"
     ]
    }
   ],
   "source": [
    "print(y1.shape)"
   ]
  },
  {
   "cell_type": "code",
   "execution_count": 23,
   "metadata": {},
   "outputs": [
    {
     "data": {
      "text/plain": [
       "[<matplotlib.lines.Line2D at 0xbb1d710>]"
      ]
     },
     "execution_count": 23,
     "metadata": {},
     "output_type": "execute_result"
    },
    {
     "data": {
      "image/png": "[encoded data removed]",
      "text/plain": [
       "<Figure size 432x288 with 1 Axes>"
      ]
     },
     "metadata": {
      "needs_background": "light"
     },
     "output_type": "display_data"
    }
   ],
   "source": [
    "plt.plot(x1,y1,'.')"
   ]
  },
  {
   "cell_type": "code",
   "execution_count": 43,
   "metadata": {},
   "outputs": [],
   "source": [
    "poly=PolynomialFeatures(degree=1)\n"
   ]
  },
  {
   "cell_type": "code",
   "execution_count": 44,
   "metadata": {},
   "outputs": [
    {
     "data": {
      "text/plain": [
       "array([[1.00000000e+00, 5.03997480e+00],\n",
       "       [1.00000000e+00, 4.28012178e+00],\n",
       "       [1.00000000e+00, 3.95842901e+00],\n",
       "       [1.00000000e+00, 2.14687557e-03],\n",
       "       [1.00000000e+00, 5.44678205e+00],\n",
       "       [1.00000000e+00, 4.78182113e+00],\n",
       "       [1.00000000e+00, 2.62866466e+00],\n",
       "       [1.00000000e+00, 2.87563484e+00],\n",
       "       [1.00000000e+00, 4.57861386e+00],\n",
       "       [1.00000000e+00, 2.62562470e+00],\n",
       "       [1.00000000e+00, 5.27405106e+00],\n",
       "       [1.00000000e+00, 1.89416768e+00],\n",
       "       [1.00000000e+00, 1.77482421e+00],\n",
       "       [1.00000000e+00, 4.33320227e+00],\n",
       "       [1.00000000e+00, 3.87149605e+00],\n",
       "       [1.00000000e+00, 5.12595195e+00],\n",
       "       [1.00000000e+00, 2.24195691e+00],\n",
       "       [1.00000000e+00, 2.88049844e+00],\n",
       "       [1.00000000e+00, 1.27733016e+00],\n",
       "       [1.00000000e+00, 2.04601078e+00],\n",
       "       [1.00000000e+00, 7.10638014e-01],\n",
       "       [1.00000000e+00, 3.63671668e+00],\n",
       "       [1.00000000e+00, 5.03006545e+00],\n",
       "       [1.00000000e+00, 4.54916607e+00],\n",
       "       [1.00000000e+00, 3.56329697e+00],\n",
       "       [1.00000000e+00, 4.71649530e+00],\n",
       "       [1.00000000e+00, 3.90255073e+00],\n",
       "       [1.00000000e+00, 6.91179665e-01],\n",
       "       [1.00000000e+00, 3.61042403e+00],\n",
       "       [1.00000000e+00, 2.98531167e+00],\n",
       "       [1.00000000e+00, 2.13409625e+00],\n",
       "       [1.00000000e+00, 1.40663664e+00],\n",
       "       [1.00000000e+00, 3.54974412e+00],\n",
       "       [1.00000000e+00, 1.67273143e+00],\n",
       "       [1.00000000e+00, 3.84882703e+00],\n",
       "       [1.00000000e+00, 2.28834927e+00],\n",
       "       [1.00000000e+00, 4.42215277e+00],\n",
       "       [1.00000000e+00, 5.00025390e+00],\n",
       "       [1.00000000e+00, 3.35795017e+00],\n",
       "       [1.00000000e+00, 4.19507362e+00],\n",
       "       [1.00000000e+00, 5.44022696e+00],\n",
       "       [1.00000000e+00, 2.69433847e+00],\n",
       "       [1.00000000e+00, 6.71815247e-01],\n",
       "       [1.00000000e+00, 3.43720671e+00],\n",
       "       [1.00000000e+00, 9.52909636e-01],\n",
       "       [1.00000000e+00, 1.69491063e+00],\n",
       "       [1.00000000e+00, 5.19124089e+00],\n",
       "       [1.00000000e+00, 2.63838681e+00],\n",
       "       [1.00000000e+00, 4.49000079e+00],\n",
       "       [1.00000000e+00, 5.78689320e+00],\n",
       "       [1.00000000e+00, 3.31174029e+00],\n",
       "       [1.00000000e+00, 4.89729126e+00],\n",
       "       [1.00000000e+00, 2.33979002e+00],\n",
       "       [1.00000000e+00, 5.93219473e-01],\n",
       "       [1.00000000e+00, 1.05688939e+00],\n",
       "       [1.00000000e+00, 3.77985804e-02],\n",
       "       [1.00000000e+00, 5.28469141e+00],\n",
       "       [1.00000000e+00, 2.29679330e+00],\n",
       "       [1.00000000e+00, 2.52705065e+00],\n",
       "       [1.00000000e+00, 5.75094438e+00],\n",
       "       [1.00000000e+00, 9.57862630e-01],\n",
       "       [1.00000000e+00, 5.85717648e+00],\n",
       "       [1.00000000e+00, 4.85906861e+00],\n",
       "       [1.00000000e+00, 1.89287093e+00],\n",
       "       [1.00000000e+00, 5.72237655e+00],\n",
       "       [1.00000000e+00, 5.31565540e-01],\n",
       "       [1.00000000e+00, 3.52509478e+00],\n",
       "       [1.00000000e+00, 3.40610233e+00],\n",
       "       [1.00000000e+00, 4.99350244e+00],\n",
       "       [1.00000000e+00, 5.62004418e+00],\n",
       "       [1.00000000e+00, 5.50534384e+00],\n",
       "       [1.00000000e+00, 7.96281632e-01],\n",
       "       [1.00000000e+00, 1.70399290e+00],\n",
       "       [1.00000000e+00, 1.69486022e+00],\n",
       "       [1.00000000e+00, 4.83666027e+00],\n",
       "       [1.00000000e+00, 5.92612775e+00],\n",
       "       [1.00000000e+00, 1.30836958e+00],\n",
       "       [1.00000000e+00, 2.88992944e+00],\n",
       "       [1.00000000e+00, 3.53264067e+00],\n",
       "       [1.00000000e+00, 5.73464227e+00],\n",
       "       [1.00000000e+00, 3.48616566e+00],\n",
       "       [1.00000000e+00, 1.21196589e+00],\n",
       "       [1.00000000e+00, 7.77600973e-01],\n",
       "       [1.00000000e+00, 3.36754064e+00],\n",
       "       [1.00000000e+00, 1.48418529e+00],\n",
       "       [1.00000000e+00, 2.11633936e+00],\n",
       "       [1.00000000e+00, 1.62924365e+00],\n",
       "       [1.00000000e+00, 3.98431636e+00],\n",
       "       [1.00000000e+00, 1.05480137e+00],\n",
       "       [1.00000000e+00, 4.59494747e+00],\n",
       "       [1.00000000e+00, 2.23016173e+00],\n",
       "       [1.00000000e+00, 5.63825536e-01],\n",
       "       [1.00000000e+00, 3.44005858e+00],\n",
       "       [1.00000000e+00, 3.72895683e+00],\n",
       "       [1.00000000e+00, 5.72416344e+00],\n",
       "       [1.00000000e+00, 5.24475025e+00],\n",
       "       [1.00000000e+00, 2.70647761e+00],\n",
       "       [1.00000000e+00, 2.67166519e+00],\n",
       "       [1.00000000e+00, 3.17547321e+00],\n",
       "       [1.00000000e+00, 1.69579822e+00]])"
      ]
     },
     "execution_count": 44,
     "metadata": {},
     "output_type": "execute_result"
    }
   ],
   "source": [
    "x_poly=poly.fit_transform(x1)\n",
    "x_poly"
   ]
  },
  {
   "cell_type": "code",
   "execution_count": 45,
   "metadata": {},
   "outputs": [
    {
     "data": {
      "text/plain": [
       "array([5.0399748])"
      ]
     },
     "execution_count": 45,
     "metadata": {},
     "output_type": "execute_result"
    }
   ],
   "source": [
    "x1[0]"
   ]
  },
  {
   "cell_type": "code",
   "execution_count": 46,
   "metadata": {},
   "outputs": [
    {
     "data": {
      "text/plain": [
       "array([1.       , 5.0399748])"
      ]
     },
     "execution_count": 46,
     "metadata": {},
     "output_type": "execute_result"
    }
   ],
   "source": [
    "x_poly[0]"
   ]
  },
  {
   "cell_type": "code",
   "execution_count": 47,
   "metadata": {},
   "outputs": [
    {
     "data": {
      "text/plain": [
       "array([0.00214688])"
      ]
     },
     "execution_count": 47,
     "metadata": {},
     "output_type": "execute_result"
    }
   ],
   "source": [
    "x1[3]"
   ]
  },
  {
   "cell_type": "code",
   "execution_count": 48,
   "metadata": {},
   "outputs": [
    {
     "data": {
      "text/plain": [
       "array([1.        , 0.00214688])"
      ]
     },
     "execution_count": 48,
     "metadata": {},
     "output_type": "execute_result"
    }
   ],
   "source": [
    "x_poly[3]"
   ]
  },
  {
   "cell_type": "code",
   "execution_count": 49,
   "metadata": {},
   "outputs": [
    {
     "data": {
      "text/plain": [
       "PolynomialFeatures(degree=1, include_bias=True, interaction_only=False,\n",
       "                   order='C')"
      ]
     },
     "execution_count": 49,
     "metadata": {},
     "output_type": "execute_result"
    }
   ],
   "source": [
    "poly.fit(x1,y1)"
   ]
  },
  {
   "cell_type": "code",
   "execution_count": 50,
   "metadata": {},
   "outputs": [
    {
     "data": {
      "text/plain": [
       "PolynomialFeatures(degree=1, include_bias=True, interaction_only=False,\n",
       "                   order='C')"
      ]
     },
     "execution_count": 50,
     "metadata": {},
     "output_type": "execute_result"
    }
   ],
   "source": [
    "poly.fit(x_poly,y1)"
   ]
  },
  {
   "cell_type": "code",
   "execution_count": 51,
   "metadata": {},
   "outputs": [],
   "source": [
    "from sklearn.linear_model import LinearRegression\n",
    "lin=LinearRegression()"
   ]
  },
  {
   "cell_type": "code",
   "execution_count": 52,
   "metadata": {},
   "outputs": [
    {
     "data": {
      "text/plain": [
       "LinearRegression(copy_X=True, fit_intercept=True, n_jobs=None, normalize=False)"
      ]
     },
     "execution_count": 52,
     "metadata": {},
     "output_type": "execute_result"
    }
   ],
   "source": [
    "lin.fit(x_poly,y1)"
   ]
  },
  {
   "cell_type": "code",
   "execution_count": 53,
   "metadata": {},
   "outputs": [
    {
     "data": {
      "text/plain": [
       "array([-6.66316129])"
      ]
     },
     "execution_count": 53,
     "metadata": {},
     "output_type": "execute_result"
    }
   ],
   "source": [
    "lin.intercept_"
   ]
  },
  {
   "cell_type": "code",
   "execution_count": 54,
   "metadata": {},
   "outputs": [
    {
     "data": {
      "text/plain": [
       "array([[0.        , 6.78318241]])"
      ]
     },
     "execution_count": 54,
     "metadata": {},
     "output_type": "execute_result"
    }
   ],
   "source": [
    "lin.coef_"
   ]
  },
  {
   "cell_type": "code",
   "execution_count": 55,
   "metadata": {},
   "outputs": [
    {
     "data": {
      "text/plain": [
       "array([[27.52390714],\n",
       "       [22.36968544],\n",
       "       [20.18758473],\n",
       "       [-6.64859864],\n",
       "       [30.28335488],\n",
       "       [25.77280368],\n",
       "       [11.16755059],\n",
       "       [12.84279435],\n",
       "       [24.3944117 ],\n",
       "       [11.14692998],\n",
       "       [29.11168907],\n",
       "       [ 6.18532359],\n",
       "       [ 5.37579509],\n",
       "       [22.72974012],\n",
       "       [19.59790262],\n",
       "       [28.10710581],\n",
       "       [ 8.54444137],\n",
       "       [12.87578504],\n",
       "       [ 2.00120217],\n",
       "       [ 7.21530304],\n",
       "       [-1.84277402],\n",
       "       [18.00535131],\n",
       "       [27.45669016],\n",
       "       [24.19466196],\n",
       "       [17.50733206],\n",
       "       [25.32968666],\n",
       "       [19.8085522 ],\n",
       "       [-1.97476355],\n",
       "       [17.8270035 ],\n",
       "       [13.5867523 ],\n",
       "       [ 7.81280288],\n",
       "       [ 2.87831165],\n",
       "       [17.41540057],\n",
       "       [ 4.68328115],\n",
       "       [19.44413449],\n",
       "       [ 8.85912924],\n",
       "       [23.33310762],\n",
       "       [27.254473  ],\n",
       "       [16.11442723],\n",
       "       [21.79278827],\n",
       "       [30.23889052],\n",
       "       [11.61302803],\n",
       "       [-2.10611593],\n",
       "       [16.65203883],\n",
       "       [-0.19940141],\n",
       "       [ 4.83372671],\n",
       "       [28.54997256],\n",
       "       [11.23349772],\n",
       "       [23.79333306],\n",
       "       [32.59039084],\n",
       "       [15.80097717],\n",
       "       [26.55605862],\n",
       "       [ 9.2080612 ],\n",
       "       [-2.6392454 ],\n",
       "       [ 0.50591224],\n",
       "       [-6.40676663],\n",
       "       [29.18386455],\n",
       "       [ 8.91640665],\n",
       "       [10.47828424],\n",
       "       [32.34654343],\n",
       "       [-0.16580435],\n",
       "       [33.0671352 ],\n",
       "       [26.29678741],\n",
       "       [ 6.1765275 ],\n",
       "       [32.15276265],\n",
       "       [-3.05745527],\n",
       "       [17.24819957],\n",
       "       [16.44105211],\n",
       "       [27.20867661],\n",
       "       [31.45862353],\n",
       "       [30.68059022],\n",
       "       [-1.26183773],\n",
       "       [ 4.89533336],\n",
       "       [ 4.83338473],\n",
       "       [26.14478759],\n",
       "       [33.53484424],\n",
       "       [ 2.21174824],\n",
       "       [12.93975723],\n",
       "       [17.29938472],\n",
       "       [32.23596324],\n",
       "       [16.9841363 ],\n",
       "       [ 1.55782443],\n",
       "       [-1.38855205],\n",
       "       [16.17948111],\n",
       "       [ 3.40433824],\n",
       "       [ 7.69235464],\n",
       "       [ 4.3882956 ],\n",
       "       [20.36318334],\n",
       "       [ 0.49174883],\n",
       "       [24.50520555],\n",
       "       [ 8.46443254],\n",
       "       [-2.83862984],\n",
       "       [16.67138352],\n",
       "       [18.63103307],\n",
       "       [32.16488344],\n",
       "       [28.91293633],\n",
       "       [11.69537003],\n",
       "       [11.459231  ],\n",
       "       [14.87665275],\n",
       "       [ 4.83974735]])"
      ]
     },
     "execution_count": 55,
     "metadata": {},
     "output_type": "execute_result"
    }
   ],
   "source": [
    "y_predictions=lin.predict(x_poly)\n",
    "y_predictions"
   ]
  },
  {
   "cell_type": "code",
   "execution_count": 56,
   "metadata": {},
   "outputs": [
    {
     "data": {
      "image/png": "[encoded data removed]",
      "text/plain": [
       "<Figure size 432x288 with 1 Axes>"
      ]
     },
     "metadata": {
      "needs_background": "light"
     },
     "output_type": "display_data"
    }
   ],
   "source": [
    "plt.scatter(x1,y1,c='g',label=\"before polynomial\")\n",
    "plt.plot(x1,y_predictions,c='r',label=\"after polynomial linear regressions\")\n",
    "plt.xlabel(\"x1\")\n",
    "plt.ylabel(\"y1\")\n",
    "plt.title(\"linear regression with polynomial features\")\n",
    "plt.legend(\"best\")\n",
    "plt.show()"
   ]
  },
  {
   "cell_type": "code",
   "execution_count": null,
   "metadata": {},
   "outputs": [],
   "source": []
  }
 ],
 "metadata": {
  "kernelspec": {
   "display_name": "Python 3",
   "language": "python",
   "name": "python3"
  },
  "language_info": {
   "codemirror_mode": {
    "name": "ipython",
    "version": 3
   },
   "file_extension": ".py",
   "mimetype": "text/x-python",
   "name": "python",
   "nbconvert_exporter": "python",
   "pygments_lexer": "ipython3",
   "version": "3.7.3"
  }
 },
 "nbformat": 4,
 "nbformat_minor": 2
}
