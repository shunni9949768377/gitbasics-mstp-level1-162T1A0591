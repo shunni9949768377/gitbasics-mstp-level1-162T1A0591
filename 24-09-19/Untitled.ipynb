{
 "cells": [
  {
   "cell_type": "markdown",
   "metadata": {},
   "source": [
    "## FUNCTIONS  \n",
    "### REUSABILITY\n",
    "### EASY TO DEBUG\n",
    "\n",
    "func definition\n",
    "func calling"
   ]
  },
  {
   "cell_type": "code",
   "execution_count": 2,
   "metadata": {},
   "outputs": [
    {
     "ename": "SyntaxError",
     "evalue": "invalid syntax (<ipython-input-2-090384eabf06>, line 1)",
     "output_type": "error",
     "traceback": [
      "\u001b[1;36m  File \u001b[1;32m\"<ipython-input-2-090384eabf06>\"\u001b[1;36m, line \u001b[1;32m1\u001b[0m\n\u001b[1;33m    def function name(): #/func definition\u001b[0m\n\u001b[1;37m                    ^\u001b[0m\n\u001b[1;31mSyntaxError\u001b[0m\u001b[1;31m:\u001b[0m invalid syntax\n"
     ]
    }
   ],
   "source": [
    "def function name(): #/func definition\n",
    "    statement1\n",
    "    ststement2\n",
    "function name() #/func call    "
   ]
  },
  {
   "cell_type": "code",
   "execution_count": 3,
   "metadata": {},
   "outputs": [
    {
     "name": "stdout",
     "output_type": "stream",
     "text": [
      "30\n",
      "20\n",
      "50\n"
     ]
    }
   ],
   "source": [
    "def addition():\n",
    "    a=int(input())\n",
    "    b=int(input())\n",
    "    print(a+b)\n",
    "addition()    "
   ]
  },
  {
   "cell_type": "code",
   "execution_count": 5,
   "metadata": {},
   "outputs": [
    {
     "name": "stdout",
     "output_type": "stream",
     "text": [
      "20\n",
      "30\n",
      "50\n"
     ]
    }
   ],
   "source": [
    "def addition(a,b):\n",
    "    c=a+b\n",
    "    print(c)\n",
    "a=input()\n",
    "b=input()\n",
    "addition(int(a),int(b))"
   ]
  },
  {
   "cell_type": "code",
   "execution_count": 10,
   "metadata": {},
   "outputs": [
    {
     "data": {
      "text/plain": [
       "(20, 30, 50)"
      ]
     },
     "execution_count": 10,
     "metadata": {},
     "output_type": "execute_result"
    }
   ],
   "source": [
    "def add(a,b):\n",
    "    c=a+b\n",
    "    return(a,b,c)\n",
    "add(20,30)"
   ]
  },
  {
   "cell_type": "markdown",
   "metadata": {},
   "source": [
    "# EVEN OR ODD "
   ]
  },
  {
   "cell_type": "code",
   "execution_count": 20,
   "metadata": {},
   "outputs": [
    {
     "name": "stdout",
     "output_type": "stream",
     "text": [
      "3\n",
      "odd\n"
     ]
    }
   ],
   "source": [
    "def evenorodd(a):\n",
    "    if (a%2)==0:\n",
    "        print (\"even\")\n",
    "    else:\n",
    "        print (\"odd\")\n",
    "a=int(input())    \n",
    "evenorodd(a)    "
   ]
  },
  {
   "cell_type": "code",
   "execution_count": 23,
   "metadata": {},
   "outputs": [
    {
     "name": "stdout",
     "output_type": "stream",
     "text": [
      "1\n",
      "3\n",
      "6\n",
      "10\n",
      "15\n",
      "21\n",
      "28\n",
      "36\n",
      "45\n",
      "55\n",
      "66\n",
      "78\n",
      "91\n",
      "105\n",
      "120\n",
      "136\n",
      "153\n",
      "171\n",
      "190\n",
      "210\n",
      "210\n"
     ]
    }
   ],
   "source": [
    "#sum of n natural numbers\n",
    "def sum(n):\n",
    "    s=0\n",
    "    for i in range(1,n+1):\n",
    "        s=s+i\n",
    "        print(s)\n",
    "    print(s)\n",
    "sum(20)        "
   ]
  },
  {
   "cell_type": "code",
   "execution_count": 25,
   "metadata": {},
   "outputs": [
    {
     "name": "stdout",
     "output_type": "stream",
     "text": [
      "2\n",
      "4\n",
      "12\n",
      "48\n",
      "240\n",
      "1440\n",
      "10080\n",
      "80640\n",
      "725760\n",
      "7257600\n",
      "79833600\n",
      "958003200\n",
      "12454041600\n",
      "174356582400\n",
      "2615348736000\n",
      "41845579776000\n",
      "711374856192000\n",
      "12804747411456000\n",
      "243290200817664000\n",
      "243290200817664000\n"
     ]
    }
   ],
   "source": [
    "#product of n natural numbers\n",
    "def productof(n):\n",
    "    s=2\n",
    "    for i in range(1,n*1):\n",
    "        s=s*i\n",
    "        print(s)\n",
    "    print(s)\n",
    "productof(20)        "
   ]
  },
  {
   "cell_type": "code",
   "execution_count": 32,
   "metadata": {},
   "outputs": [
    {
     "name": "stdout",
     "output_type": "stream",
     "text": [
      "5\n",
      "3.0\n"
     ]
    }
   ],
   "source": [
    "# avg  of first n natural numbers\n",
    "def avg(a):\n",
    "    sum=0\n",
    "    count=0\n",
    "    for i in range(1,a+1):\n",
    "        sum=sum+i\n",
    "        count=count+1\n",
    "    average=(sum/count)\n",
    "    print(average)\n",
    "a=int(input())    \n",
    "avg(a)"
   ]
  },
  {
   "cell_type": "code",
   "execution_count": 5,
   "metadata": {},
   "outputs": [
    {
     "name": "stdout",
     "output_type": "stream",
     "text": [
      "1 2 3 4 5 6 7 8 9 10 "
     ]
    }
   ],
   "source": [
    "# factorial\n",
    "def factof(n):\n",
    "   for i in range(1,n+1):\n",
    "    if n%1==0:\n",
    "       print(i,end=\" \")\n",
    "factof(10)        "
   ]
  },
  {
   "cell_type": "code",
   "execution_count": null,
   "metadata": {},
   "outputs": [],
   "source": []
  }
 ],
 "metadata": {
  "kernelspec": {
   "display_name": "Python 3",
   "language": "python",
   "name": "python3"
  },
  "language_info": {
   "codemirror_mode": {
    "name": "ipython",
    "version": 3
   },
   "file_extension": ".py",
   "mimetype": "text/x-python",
   "name": "python",
   "nbconvert_exporter": "python",
   "pygments_lexer": "ipython3",
   "version": "3.7.3"
  }
 },
 "nbformat": 4,
 "nbformat_minor": 2
}
