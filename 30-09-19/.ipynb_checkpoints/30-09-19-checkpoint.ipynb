{
 "cells": [
  {
   "cell_type": "markdown",
   "metadata": {},
   "source": [
    "# DICTIONARIES"
   ]
  },
  {
   "cell_type": "markdown",
   "metadata": {},
   "source": [
    "# combination of key and key values separated by [,] and enclosed with {}"
   ]
  },
  {
   "cell_type": "markdown",
   "metadata": {},
   "source": [
    "# elements in dictionaries are unordered and unindexed"
   ]
  },
  {
   "cell_type": "code",
   "execution_count": 1,
   "metadata": {},
   "outputs": [
    {
     "data": {
      "text/plain": [
       "dict"
      ]
     },
     "execution_count": 1,
     "metadata": {},
     "output_type": "execute_result"
    }
   ],
   "source": [
    "a_b={}\n",
    "type(a_b)"
   ]
  },
  {
   "cell_type": "code",
   "execution_count": 2,
   "metadata": {},
   "outputs": [
    {
     "data": {
      "text/plain": [
       "['__class__',\n",
       " '__contains__',\n",
       " '__delattr__',\n",
       " '__delitem__',\n",
       " '__dir__',\n",
       " '__doc__',\n",
       " '__eq__',\n",
       " '__format__',\n",
       " '__ge__',\n",
       " '__getattribute__',\n",
       " '__getitem__',\n",
       " '__gt__',\n",
       " '__hash__',\n",
       " '__init__',\n",
       " '__init_subclass__',\n",
       " '__iter__',\n",
       " '__le__',\n",
       " '__len__',\n",
       " '__lt__',\n",
       " '__ne__',\n",
       " '__new__',\n",
       " '__reduce__',\n",
       " '__reduce_ex__',\n",
       " '__repr__',\n",
       " '__setattr__',\n",
       " '__setitem__',\n",
       " '__sizeof__',\n",
       " '__str__',\n",
       " '__subclasshook__',\n",
       " 'clear',\n",
       " 'copy',\n",
       " 'fromkeys',\n",
       " 'get',\n",
       " 'items',\n",
       " 'keys',\n",
       " 'pop',\n",
       " 'popitem',\n",
       " 'setdefault',\n",
       " 'update',\n",
       " 'values']"
      ]
     },
     "execution_count": 2,
     "metadata": {},
     "output_type": "execute_result"
    }
   ],
   "source": [
    "dir(dict)"
   ]
  },
  {
   "cell_type": "code",
   "execution_count": 4,
   "metadata": {},
   "outputs": [
    {
     "name": "stdout",
     "output_type": "stream",
     "text": [
      "Help on method_descriptor:\n",
      "\n",
      "clear(...)\n",
      "    D.clear() -> None.  Remove all items from D.\n",
      "\n"
     ]
    }
   ],
   "source": [
    "help(dict.clear)"
   ]
  },
  {
   "cell_type": "code",
   "execution_count": 5,
   "metadata": {},
   "outputs": [
    {
     "name": "stdout",
     "output_type": "stream",
     "text": [
      "{'key1': 'value1', 'name': 'kvsw', 'rollnumber': 452}\n"
     ]
    }
   ],
   "source": [
    "d={\"key1\":\"value1\",\"name\":\"kvsw\",\"rollnumber\":452} # key must be string and assigned by : then separated with ,\n",
    "print(d)"
   ]
  },
  {
   "cell_type": "code",
   "execution_count": 6,
   "metadata": {},
   "outputs": [
    {
     "name": "stdout",
     "output_type": "stream",
     "text": [
      "key1\n",
      "name\n",
      "rollnumber\n"
     ]
    }
   ],
   "source": [
    "for k in d:\n",
    "    print(k)"
   ]
  },
  {
   "cell_type": "code",
   "execution_count": 7,
   "metadata": {},
   "outputs": [
    {
     "name": "stdout",
     "output_type": "stream",
     "text": [
      "{'key1': 'value1', 'name': 'kvsw', 'rollnumber': 452}\n",
      "{'key1': 'value1', 'name': 'kvsw', 'rollnumber': 452}\n",
      "{'key1': 'value1', 'name': 'kvsw', 'rollnumber': 452}\n"
     ]
    }
   ],
   "source": [
    "for k in d:\n",
    "    print(d)"
   ]
  },
  {
   "cell_type": "code",
   "execution_count": 8,
   "metadata": {},
   "outputs": [
    {
     "name": "stdout",
     "output_type": "stream",
     "text": [
      "dict_keys(['key1', 'name', 'rollnumber'])\n",
      "{'key1': 'value1', 'name': 'kvsw', 'rollnumber': 452}\n"
     ]
    }
   ],
   "source": [
    "print(d.keys())\n",
    "print(d)"
   ]
  },
  {
   "cell_type": "code",
   "execution_count": 9,
   "metadata": {},
   "outputs": [
    {
     "name": "stdout",
     "output_type": "stream",
     "text": [
      "{'n': None, 'a': None, 'm': None, 'e': None}\n"
     ]
    }
   ],
   "source": [
    "print(d.fromkeys(\"name\"))"
   ]
  },
  {
   "cell_type": "code",
   "execution_count": 11,
   "metadata": {},
   "outputs": [
    {
     "name": "stdout",
     "output_type": "stream",
     "text": [
      "Help on built-in function fromkeys:\n",
      "\n",
      "fromkeys(iterable, value=None, /) method of builtins.type instance\n",
      "    Create a new dictionary with keys from iterable and values set to value.\n",
      "\n"
     ]
    }
   ],
   "source": [
    "help(dict.fromkeys)"
   ]
  },
  {
   "cell_type": "code",
   "execution_count": 10,
   "metadata": {},
   "outputs": [
    {
     "name": "stdout",
     "output_type": "stream",
     "text": [
      "dict_values(['value1', 'kvsw', 452])\n"
     ]
    }
   ],
   "source": [
    "print(d.values())"
   ]
  },
  {
   "cell_type": "code",
   "execution_count": 12,
   "metadata": {},
   "outputs": [
    {
     "name": "stdout",
     "output_type": "stream",
     "text": [
      "{'key1': 'value1', 'name': 'kvsw', 'rollnumber': 452, 'prabhas': 'rebelstar'}\n"
     ]
    }
   ],
   "source": [
    "#adding a key\n",
    "d[\"prabhas\"]=\"rebelstar\"\n",
    "print(d)"
   ]
  },
  {
   "cell_type": "code",
   "execution_count": 13,
   "metadata": {},
   "outputs": [
    {
     "data": {
      "text/plain": [
       "452"
      ]
     },
     "execution_count": 13,
     "metadata": {},
     "output_type": "execute_result"
    }
   ],
   "source": [
    "# Accesing elements with key\n",
    "d[\"rollnumber\"]"
   ]
  },
  {
   "cell_type": "code",
   "execution_count": 14,
   "metadata": {},
   "outputs": [
    {
     "data": {
      "text/plain": [
       "'kvsw'"
      ]
     },
     "execution_count": 14,
     "metadata": {},
     "output_type": "execute_result"
    }
   ],
   "source": [
    "d[\"name\"]"
   ]
  },
  {
   "cell_type": "code",
   "execution_count": 15,
   "metadata": {},
   "outputs": [
    {
     "data": {
      "text/plain": [
       "'rebelstar'"
      ]
     },
     "execution_count": 15,
     "metadata": {},
     "output_type": "execute_result"
    }
   ],
   "source": [
    "d[\"prabhas\"]"
   ]
  },
  {
   "cell_type": "code",
   "execution_count": 16,
   "metadata": {},
   "outputs": [
    {
     "name": "stdout",
     "output_type": "stream",
     "text": [
      "Help on method_descriptor:\n",
      "\n",
      "pop(...)\n",
      "    D.pop(k[,d]) -> v, remove specified key and return the corresponding value.\n",
      "    If key is not found, d is returned if given, otherwise KeyError is raised\n",
      "\n"
     ]
    }
   ],
   "source": [
    "help(dict.pop)"
   ]
  },
  {
   "cell_type": "code",
   "execution_count": 18,
   "metadata": {},
   "outputs": [
    {
     "data": {
      "text/plain": [
       "'value1'"
      ]
     },
     "execution_count": 18,
     "metadata": {},
     "output_type": "execute_result"
    }
   ],
   "source": [
    "d.pop(\"key1\")"
   ]
  },
  {
   "cell_type": "code",
   "execution_count": 19,
   "metadata": {},
   "outputs": [
    {
     "data": {
      "text/plain": [
       "{'name': 'kvsw', 'rollnumber': 452, 'prabhas': 'rebelstar'}"
      ]
     },
     "execution_count": 19,
     "metadata": {},
     "output_type": "execute_result"
    }
   ],
   "source": [
    "d"
   ]
  },
  {
   "cell_type": "code",
   "execution_count": 20,
   "metadata": {},
   "outputs": [
    {
     "data": {
      "text/plain": [
       "dict_items([('name', 'kvsw'), ('rollnumber', 452), ('prabhas', 'rebelstar')])"
      ]
     },
     "execution_count": 20,
     "metadata": {},
     "output_type": "execute_result"
    }
   ],
   "source": [
    "d.items()\n"
   ]
  },
  {
   "cell_type": "code",
   "execution_count": 21,
   "metadata": {},
   "outputs": [
    {
     "name": "stdout",
     "output_type": "stream",
     "text": [
      "{'name': 'kvsw', 'rollnumber': 452, 'prabhas': 'rebelstar'}\n",
      "{'name': 'kvsw', 'rollnumber': 452, 'prabhas': 'rebelstar'}\n",
      "{'name': 'kvsw', 'rollnumber': 452, 'prabhas': 'rebelstar'}\n"
     ]
    }
   ],
   "source": [
    "for k in d:\n",
    "    print(d)"
   ]
  },
  {
   "cell_type": "code",
   "execution_count": 26,
   "metadata": {},
   "outputs": [
    {
     "name": "stdout",
     "output_type": "stream",
     "text": [
      "dict_items([('name', 'kvsw'), ('rollnumber', 452), ('prabhas', 'rebelstar')])\n",
      "dict_items([('name', 'kvsw'), ('rollnumber', 452), ('prabhas', 'rebelstar')])\n",
      "dict_items([('name', 'kvsw'), ('rollnumber', 452), ('prabhas', 'rebelstar')])\n"
     ]
    }
   ],
   "source": [
    "for k in d:\n",
    "    print(d.items())"
   ]
  },
  {
   "cell_type": "code",
   "execution_count": 29,
   "metadata": {},
   "outputs": [
    {
     "name": "stdout",
     "output_type": "stream",
     "text": [
      "('name', 'kvsw')\n",
      "('rollnumber', 452)\n",
      "('prabhas', 'rebelstar')\n"
     ]
    }
   ],
   "source": [
    "for k in d.items():\n",
    "    print(k)"
   ]
  },
  {
   "cell_type": "code",
   "execution_count": 30,
   "metadata": {},
   "outputs": [
    {
     "name": "stdout",
     "output_type": "stream",
     "text": [
      "kvsw\n",
      "452\n",
      "rebelstar\n"
     ]
    }
   ],
   "source": [
    "for k in d.values():\n",
    "    print(k)"
   ]
  },
  {
   "cell_type": "code",
   "execution_count": 31,
   "metadata": {},
   "outputs": [
    {
     "name": "stdout",
     "output_type": "stream",
     "text": [
      "Help on method_descriptor:\n",
      "\n",
      "get(self, key, default=None, /)\n",
      "    Return the value for key if key is in the dictionary, else default.\n",
      "\n"
     ]
    }
   ],
   "source": [
    "help(dict.get)"
   ]
  },
  {
   "cell_type": "code",
   "execution_count": 32,
   "metadata": {},
   "outputs": [
    {
     "data": {
      "text/plain": [
       "'rebelstar'"
      ]
     },
     "execution_count": 32,
     "metadata": {},
     "output_type": "execute_result"
    }
   ],
   "source": [
    "d.get(\"prabhas\")"
   ]
  },
  {
   "cell_type": "code",
   "execution_count": 35,
   "metadata": {},
   "outputs": [
    {
     "name": "stdout",
     "output_type": "stream",
     "text": [
      "Help on method_descriptor:\n",
      "\n",
      "popitem(...)\n",
      "    D.popitem() -> (k, v), remove and return some (key, value) pair as a\n",
      "    2-tuple; but raise KeyError if D is empty.\n",
      "\n"
     ]
    }
   ],
   "source": [
    "help(dict.popitem)"
   ]
  },
  {
   "cell_type": "code",
   "execution_count": 36,
   "metadata": {},
   "outputs": [
    {
     "data": {
      "text/plain": [
       "('prabhas', 'rebelstar')"
      ]
     },
     "execution_count": 36,
     "metadata": {},
     "output_type": "execute_result"
    }
   ],
   "source": [
    "d.popitem()"
   ]
  },
  {
   "cell_type": "code",
   "execution_count": 37,
   "metadata": {},
   "outputs": [
    {
     "data": {
      "text/plain": [
       "{'name': 'kvsw', 'rollnumber': 452}"
      ]
     },
     "execution_count": 37,
     "metadata": {},
     "output_type": "execute_result"
    }
   ],
   "source": [
    "d"
   ]
  },
  {
   "cell_type": "code",
   "execution_count": 38,
   "metadata": {},
   "outputs": [
    {
     "name": "stdout",
     "output_type": "stream",
     "text": [
      "Help on method_descriptor:\n",
      "\n",
      "update(...)\n",
      "    D.update([E, ]**F) -> None.  Update D from dict/iterable E and F.\n",
      "    If E is present and has a .keys() method, then does:  for k in E: D[k] = E[k]\n",
      "    If E is present and lacks a .keys() method, then does:  for k, v in E: D[k] = v\n",
      "    In either case, this is followed by: for k in F:  D[k] = F[k]\n",
      "\n"
     ]
    }
   ],
   "source": [
    "help(dict.update)"
   ]
  },
  {
   "cell_type": "code",
   "execution_count": 48,
   "metadata": {},
   "outputs": [
    {
     "data": {
      "text/plain": [
       "{'name': 'kvsw', 'rollnumber': 452, 'anjum': None, 'k1': 'v1'}"
      ]
     },
     "execution_count": 48,
     "metadata": {},
     "output_type": "execute_result"
    }
   ],
   "source": [
    "x=d.update({\"k1\":\"v1\"})\n",
    "d"
   ]
  },
  {
   "cell_type": "code",
   "execution_count": 46,
   "metadata": {},
   "outputs": [
    {
     "name": "stdout",
     "output_type": "stream",
     "text": [
      "Help on method_descriptor:\n",
      "\n",
      "setdefault(self, key, default=None, /)\n",
      "    Insert key with a value of default if key is not in the dictionary.\n",
      "    \n",
      "    Return the value for key if key is in the dictionary, else default.\n",
      "\n"
     ]
    }
   ],
   "source": [
    "help(dict.setdefault)"
   ]
  },
  {
   "cell_type": "code",
   "execution_count": 42,
   "metadata": {},
   "outputs": [
    {
     "data": {
      "text/plain": [
       "'kvsw'"
      ]
     },
     "execution_count": 42,
     "metadata": {},
     "output_type": "execute_result"
    }
   ],
   "source": [
    "d.setdefault(\"name\")"
   ]
  },
  {
   "cell_type": "code",
   "execution_count": 43,
   "metadata": {},
   "outputs": [
    {
     "data": {
      "text/plain": [
       "{'name': 'kvsw', 'rollnumber': 452, 'anjum': None}"
      ]
     },
     "execution_count": 43,
     "metadata": {},
     "output_type": "execute_result"
    }
   ],
   "source": [
    "d.setdefault(\"anjum\")\n",
    "d"
   ]
  },
  {
   "cell_type": "code",
   "execution_count": 2,
   "metadata": {},
   "outputs": [
    {
     "name": "stdout",
     "output_type": "stream",
     "text": [
      "adding element {'key1': 'name', 'key2': 'phno', 'key3': 'val3', 'key4': 'val4'}\n",
      "removed element {'key1': 'name', 'key2': 'phno', 'key4': 'val4'}\n",
      "('key1', 'name')\n",
      "('key2', 'phno')\n",
      "('key4', 'val4')\n",
      "updated key {'key1': 'name', 'key2': 'phno', 'key4': 'val4', 'k1': 'v1'}\n"
     ]
    }
   ],
   "source": [
    "a={\"key1\":\"name\",\"key2\":\"phno\",\"key3\":\"val3\"}\n",
    "a[\"key4\"]=\"val4\"\n",
    "print(\"adding element\",a)\n",
    "a.pop(\"key3\")\n",
    "print(\"removed element\",a)\n",
    "for i in a.items():\n",
    "    print(i)\n",
    "d=a.update({\"k1\":\"v1\"})\n",
    "a\n",
    "print(\"updated key\",a)\n",
    "\n",
    "\n",
    "\n",
    "\n"
   ]
  },
  {
   "cell_type": "code",
   "execution_count": 4,
   "metadata": {},
   "outputs": [
    {
     "name": "stdout",
     "output_type": "stream",
     "text": [
      "name:anjum\n",
      "rollno:591\n",
      "name:shunni\n",
      "rollno:111\n"
     ]
    }
   ],
   "source": [
    "a={\"anjum\":591,\"shunni\":111}\n",
    "for i in a.items():\n",
    "    print(\"name:\"+i[0])\n",
    "    print(\"rollno\",i[1],sep=\":\")"
   ]
  },
  {
   "cell_type": "code",
   "execution_count": 38,
   "metadata": {},
   "outputs": [
    {
     "name": "stdout",
     "output_type": "stream",
     "text": [
      "1:2\n",
      "2:1\n",
      "3:1\n",
      "4:1\n",
      "5:2\n"
     ]
    }
   ],
   "source": [
    "l=[1,1,2,3,4,5,5]\n",
    "a=list(set(l))\n",
    "for i in a:\n",
    "    print(i,l.count(i),sep=\":\")"
   ]
  },
  {
   "cell_type": "code",
   "execution_count": 2,
   "metadata": {},
   "outputs": [
    {
     "name": "stdout",
     "output_type": "stream",
     "text": [
      "g:2\n",
      "o:2\n",
      "o:2\n",
      "g:2\n",
      "l:1\n",
      "e:1\n"
     ]
    }
   ],
   "source": [
    "a=\"google\"\n",
    "n=list(set(a))\n",
    "n=sorted(n)\n",
    "for i in a:\n",
    "    print(i,a.count(i),sep=\":\")"
   ]
  },
  {
   "cell_type": "code",
   "execution_count": 39,
   "metadata": {},
   "outputs": [
    {
     "name": "stdout",
     "output_type": "stream",
     "text": [
      "['o', 'l', 'e', 'g']\n"
     ]
    }
   ],
   "source": [
    "a=\"google\"\n",
    "print(list(set(a)))"
   ]
  },
  {
   "cell_type": "code",
   "execution_count": 4,
   "metadata": {},
   "outputs": [
    {
     "name": "stdout",
     "output_type": "stream",
     "text": [
      "{1: 1, 2: 4, 3: 9, 4: 16, 5: 25}\n"
     ]
    }
   ],
   "source": [
    "a={}\n",
    "n=5\n",
    "for i in range(1,n+1):\n",
    "    a[i]=i**2\n",
    "print(a)    "
   ]
  },
  {
   "cell_type": "code",
   "execution_count": 46,
   "metadata": {},
   "outputs": [
    {
     "data": {
      "text/plain": [
       "[1, 2, 3, 4, 5, 6, 7, 8, 9, 10]"
      ]
     },
     "execution_count": 46,
     "metadata": {},
     "output_type": "execute_result"
    }
   ],
   "source": [
    "l=[]\n",
    "for i in range(1,11):\n",
    "    l.append(i)\n",
    "l    "
   ]
  },
  {
   "cell_type": "code",
   "execution_count": 45,
   "metadata": {},
   "outputs": [
    {
     "name": "stdout",
     "output_type": "stream",
     "text": [
      "{1: 1, 2: 1, 3: 1, 4: 2, 5: 3}\n"
     ]
    }
   ],
   "source": [
    "l=[1,2,3,4,4,5,5,5]\n",
    "k={}\n",
    "for i in l:\n",
    "    k[i]=l.count(i)\n",
    "print(k)\n",
    "    "
   ]
  },
  {
   "cell_type": "code",
   "execution_count": 4,
   "metadata": {},
   "outputs": [
    {
     "name": "stdout",
     "output_type": "stream",
     "text": [
      "{'g': 2, 'e': 3, 'n': 3, 'i': 2, 'r': 1}\n"
     ]
    }
   ],
   "source": [
    "a=\"engineering\"\n",
    "n=list(set(a))\n",
    "b={}\n",
    "for i in n:\n",
    "    b[i]=a.count(i)\n",
    "print(b)"
   ]
  },
  {
   "cell_type": "code",
   "execution_count": 5,
   "metadata": {},
   "outputs": [
    {
     "data": {
      "text/plain": [
       "{'e': 3, 'n': 3, 'g': 2, 'i': 2, 'r': 1}"
      ]
     },
     "execution_count": 5,
     "metadata": {},
     "output_type": "execute_result"
    }
   ],
   "source": [
    "c={}\n",
    "for i in a:\n",
    "    c[i]=a.count(i)\n",
    "c    "
   ]
  },
  {
   "cell_type": "markdown",
   "metadata": {},
   "source": [
    "# CONTACT APPLICATIONS USING DIcTIONARIES\n",
    "# ADD CONTACT"
   ]
  },
  {
   "cell_type": "code",
   "execution_count": 5,
   "metadata": {},
   "outputs": [
    {
     "name": "stdout",
     "output_type": "stream",
     "text": [
      "contact nani already exists\n"
     ]
    }
   ],
   "source": [
    "contact={\"nani\":9490457799,\"chinni\":9182636099,\"pandu\":8177456789}\n",
    "def addcontact(name,no):\n",
    "    if name not in contact:\n",
    "        contact[name]=[no]\n",
    "    else:\n",
    "        print(\"contact %s already exists\" % name)\n",
    "addcontact(\"nani\",9490457799)"
   ]
  },
  {
   "cell_type": "code",
   "execution_count": 6,
   "metadata": {},
   "outputs": [
    {
     "data": {
      "text/plain": [
       "{'nani': 9490457799, 'chinni': 9182636099, 'pandu': 8177456789}"
      ]
     },
     "execution_count": 6,
     "metadata": {},
     "output_type": "execute_result"
    }
   ],
   "source": [
    "contact"
   ]
  },
  {
   "cell_type": "code",
   "execution_count": 7,
   "metadata": {},
   "outputs": [],
   "source": [
    "contact={\"nani\":9490457799,\"chinni\":9182636099,\"pandu\":8177456789}\n",
    "def addcontact(name,no):\n",
    "    if name not in contact:\n",
    "        contact[name]=[no]\n",
    "    else:\n",
    "        print(\"contact %s already exists\" % name)\n",
    "addcontact(\"bro\",9849434624)"
   ]
  },
  {
   "cell_type": "code",
   "execution_count": 8,
   "metadata": {},
   "outputs": [
    {
     "data": {
      "text/plain": [
       "{'nani': 9490457799,\n",
       " 'chinni': 9182636099,\n",
       " 'pandu': 8177456789,\n",
       " 'bro': [9849434624]}"
      ]
     },
     "execution_count": 8,
     "metadata": {},
     "output_type": "execute_result"
    }
   ],
   "source": [
    "contact"
   ]
  },
  {
   "cell_type": "markdown",
   "metadata": {},
   "source": [
    "# SEARCH CONTACT"
   ]
  },
  {
   "cell_type": "code",
   "execution_count": 10,
   "metadata": {},
   "outputs": [
    {
     "data": {
      "text/plain": [
       "{'nani': 9490457799,\n",
       " 'chinni': 9182636099,\n",
       " 'pandu': 8177456789,\n",
       " 'bro': [9849434624]}"
      ]
     },
     "execution_count": 10,
     "metadata": {},
     "output_type": "execute_result"
    }
   ],
   "source": [
    "contact"
   ]
  },
  {
   "cell_type": "code",
   "execution_count": 21,
   "metadata": {},
   "outputs": [
    {
     "name": "stdout",
     "output_type": "stream",
     "text": [
      "bro : [9849434624]\n",
      "contact doesnot exists\n"
     ]
    }
   ],
   "source": [
    "def searchcontact(name): \n",
    "    if name in contact:\n",
    "        print(name,\":\",contact[name])\n",
    "    else:\n",
    "        print(\"contact doesnot exists\")\n",
    "searchcontact(\"bro\")\n",
    "searchcontact(\"anjum\")\n"
   ]
  },
  {
   "cell_type": "markdown",
   "metadata": {},
   "source": [
    "# LIST all Contacts"
   ]
  },
  {
   "cell_type": "code",
   "execution_count": 32,
   "metadata": {},
   "outputs": [
    {
     "name": "stdout",
     "output_type": "stream",
     "text": [
      "name:nani\n",
      "no:9490457799\n",
      "name:chinni\n",
      "no:9182636099\n",
      "name:bro\n",
      "no:[9849434624]\n"
     ]
    }
   ],
   "source": [
    "def listcontact():\n",
    "    for i in contact.items():\n",
    "        print(\"name:\"+i[0])\n",
    "        print(\"no:\"+str(i[1]))\n",
    "listcontact()\n"
   ]
  },
  {
   "cell_type": "code",
   "execution_count": 35,
   "metadata": {},
   "outputs": [
    {
     "name": "stdout",
     "output_type": "stream",
     "text": [
      "nani : 9490457799\n",
      "chinni : 9949768377\n",
      "bro : [9849434624]\n"
     ]
    }
   ],
   "source": [
    "def listcontact():\n",
    "    for i in contact:\n",
    "        print(i,\":\",contact[i])\n",
    "listcontact()        "
   ]
  },
  {
   "cell_type": "code",
   "execution_count": 28,
   "metadata": {},
   "outputs": [],
   "source": [
    "def deletecontact(name):\n",
    "    if name in contact:\n",
    "        contact.pop(name)\n",
    "    else:\n",
    "        print(\"contact doesnot exist\")\n",
    "deletecontact(\"pandu\")        "
   ]
  },
  {
   "cell_type": "code",
   "execution_count": 29,
   "metadata": {},
   "outputs": [
    {
     "data": {
      "text/plain": [
       "{'nani': 9490457799, 'chinni': 9182636099, 'bro': [9849434624]}"
      ]
     },
     "execution_count": 29,
     "metadata": {},
     "output_type": "execute_result"
    }
   ],
   "source": [
    "contact"
   ]
  },
  {
   "cell_type": "code",
   "execution_count": 33,
   "metadata": {},
   "outputs": [],
   "source": [
    "def modifycontact(name,no):\n",
    "    if name in contact:\n",
    "        contact[name]=no\n",
    "    else:\n",
    "        print(\"contact doesnot exists\")\n",
    "modifycontact(\"chinni\",9949768377)    "
   ]
  },
  {
   "cell_type": "code",
   "execution_count": 34,
   "metadata": {},
   "outputs": [
    {
     "data": {
      "text/plain": [
       "{'nani': 9490457799, 'chinni': 9949768377, 'bro': [9849434624]}"
      ]
     },
     "execution_count": 34,
     "metadata": {},
     "output_type": "execute_result"
    }
   ],
   "source": [
    "contact"
   ]
  },
  {
   "cell_type": "code",
   "execution_count": 1,
   "metadata": {},
   "outputs": [
    {
     "ename": "NameError",
     "evalue": "name 'phno' is not defined",
     "output_type": "error",
     "traceback": [
      "\u001b[1;31m---------------------------------------------------------------------------\u001b[0m",
      "\u001b[1;31mNameError\u001b[0m                                 Traceback (most recent call last)",
      "\u001b[1;32m<ipython-input-1-a2a4adde35c8>\u001b[0m in \u001b[0;36m<module>\u001b[1;34m\u001b[0m\n\u001b[0;32m     12\u001b[0m         \u001b[0mprint\u001b[0m\u001b[1;33m(\u001b[0m\u001b[1;34m\"contact already exists\"\u001b[0m\u001b[1;33m)\u001b[0m\u001b[1;33m\u001b[0m\u001b[1;33m\u001b[0m\u001b[0m\n\u001b[0;32m     13\u001b[0m \u001b[1;31m#addcontact(\"anjum\",[\"9949768377\",\"shaikanjum591@gmail.com\"])\u001b[0m\u001b[1;33m\u001b[0m\u001b[1;33m\u001b[0m\u001b[1;33m\u001b[0m\u001b[0m\n\u001b[1;32m---> 14\u001b[1;33m \u001b[0maddcontact\u001b[0m\u001b[1;33m(\u001b[0m\u001b[1;34m\"kvsw\"\u001b[0m\u001b[1;33m,\u001b[0m\u001b[1;33m[\u001b[0m\u001b[1;34m\"9234567890\"\u001b[0m\u001b[1;33m,\u001b[0m\u001b[1;34m\"kvswwomens@gmail.com\"\u001b[0m\u001b[1;33m]\u001b[0m\u001b[1;33m)\u001b[0m\u001b[1;33m\u001b[0m\u001b[1;33m\u001b[0m\u001b[0m\n\u001b[0m",
      "\u001b[1;32m<ipython-input-1-a2a4adde35c8>\u001b[0m in \u001b[0;36maddcontact\u001b[1;34m(name, l)\u001b[0m\n\u001b[0;32m      4\u001b[0m         \u001b[0mno\u001b[0m\u001b[1;33m=\u001b[0m\u001b[0ml\u001b[0m\u001b[1;33m[\u001b[0m\u001b[1;36m0\u001b[0m\u001b[1;33m]\u001b[0m\u001b[1;33m\u001b[0m\u001b[1;33m\u001b[0m\u001b[0m\n\u001b[0;32m      5\u001b[0m         \u001b[0mid\u001b[0m\u001b[1;33m=\u001b[0m\u001b[0ml\u001b[0m\u001b[1;33m[\u001b[0m\u001b[1;36m1\u001b[0m\u001b[1;33m]\u001b[0m\u001b[1;33m\u001b[0m\u001b[1;33m\u001b[0m\u001b[0m\n\u001b[1;32m----> 6\u001b[1;33m         \u001b[1;32mif\u001b[0m \u001b[0mphno\u001b[0m\u001b[1;33m(\u001b[0m\u001b[0mno\u001b[0m\u001b[1;33m)\u001b[0m\u001b[1;33m==\u001b[0m\u001b[0ml\u001b[0m\u001b[1;33m:\u001b[0m\u001b[1;33m\u001b[0m\u001b[1;33m\u001b[0m\u001b[0m\n\u001b[0m\u001b[0;32m      7\u001b[0m             \u001b[1;32mif\u001b[0m \u001b[0memail\u001b[0m\u001b[1;33m(\u001b[0m\u001b[0mid\u001b[0m\u001b[1;33m)\u001b[0m\u001b[1;33m==\u001b[0m\u001b[0ml\u001b[0m\u001b[1;33m:\u001b[0m\u001b[1;33m\u001b[0m\u001b[1;33m\u001b[0m\u001b[0m\n\u001b[0;32m      8\u001b[0m                 \u001b[0mcontact\u001b[0m\u001b[1;33m[\u001b[0m\u001b[0mname\u001b[0m\u001b[1;33m]\u001b[0m\u001b[1;33m=\u001b[0m\u001b[0ml\u001b[0m\u001b[1;33m\u001b[0m\u001b[1;33m\u001b[0m\u001b[0m\n",
      "\u001b[1;31mNameError\u001b[0m: name 'phno' is not defined"
     ]
    }
   ],
   "source": [
    "contact={\"anjum\":[\"9949768377\",\"shaikanjum591@gmail.com\"],\"gayathri\":[\"8796543210\",\"gayathri@gmail.com\"]}\n",
    "def addcontact(name,l):\n",
    "    if name not in contact:\n",
    "        no=l[0]\n",
    "        id=l[1]\n",
    "        if phno(no)==l:\n",
    "            if email(id)==l:\n",
    "                contact[name]=l\n",
    "        else:\n",
    "            print(\"enter a valid no and emailid\")\n",
    "    else:\n",
    "        print(\"contact already exists\")\n",
    "#addcontact(\"anjum\",[\"9949768377\",\"shaikanjum591@gmail.com\"])\n",
    "addcontact(\"kvsw\",[\"9234567890\",\"kvswwomens@gmail.com\"])"
   ]
  },
  {
   "cell_type": "code",
   "execution_count": null,
   "metadata": {},
   "outputs": [],
   "source": []
  }
 ],
 "metadata": {
  "kernelspec": {
   "display_name": "Python 3",
   "language": "python",
   "name": "python3"
  },
  "language_info": {
   "codemirror_mode": {
    "name": "ipython",
    "version": 3
   },
   "file_extension": ".py",
   "mimetype": "text/x-python",
   "name": "python",
   "nbconvert_exporter": "python",
   "pygments_lexer": "ipython3",
   "version": "3.7.3"
  }
 },
 "nbformat": 4,
 "nbformat_minor": 2
}
